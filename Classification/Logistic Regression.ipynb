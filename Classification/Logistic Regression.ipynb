{
  "nbformat": 4,
  "nbformat_minor": 0,
  "metadata": {
    "colab": {
      "name": "MIT2020013_LogisticRegression.ipynb",
      "provenance": [],
      "collapsed_sections": []
    },
    "kernelspec": {
      "name": "python3",
      "display_name": "Python 3"
    },
    "language_info": {
      "name": "python"
    }
  },
  "cells": [
    {
      "cell_type": "code",
      "source": [
        "!pip install pyspark"
      ],
      "metadata": {
        "colab": {
          "base_uri": "https://localhost:8080/"
        },
        "id": "ZF5U5VvuVtwf",
        "outputId": "1386bf43-da8b-47ae-d0e3-43e689955bb2"
      },
      "execution_count": null,
      "outputs": [
        {
          "output_type": "stream",
          "name": "stdout",
          "text": [
            "Collecting pyspark\n",
            "  Downloading pyspark-3.2.1.tar.gz (281.4 MB)\n",
            "\u001b[K     |████████████████████████████████| 281.4 MB 39 kB/s \n",
            "\u001b[?25hCollecting py4j==0.10.9.3\n",
            "  Downloading py4j-0.10.9.3-py2.py3-none-any.whl (198 kB)\n",
            "\u001b[K     |████████████████████████████████| 198 kB 55.3 MB/s \n",
            "\u001b[?25hBuilding wheels for collected packages: pyspark\n",
            "  Building wheel for pyspark (setup.py) ... \u001b[?25l\u001b[?25hdone\n",
            "  Created wheel for pyspark: filename=pyspark-3.2.1-py2.py3-none-any.whl size=281853642 sha256=3c85db2a3691155b0d2a7236a89d74b1811ab3dbf57f11ff8faa20a090a15dfa\n",
            "  Stored in directory: /root/.cache/pip/wheels/9f/f5/07/7cd8017084dce4e93e84e92efd1e1d5334db05f2e83bcef74f\n",
            "Successfully built pyspark\n",
            "Installing collected packages: py4j, pyspark\n",
            "Successfully installed py4j-0.10.9.3 pyspark-3.2.1\n"
          ]
        }
      ]
    },
    {
      "cell_type": "code",
      "source": [
        "from pyspark.sql import SparkSession\n",
        "spark = SparkSession.builder.appName(\"Logistic Regression Model\").getOrCreate()\n",
        "from pyspark.ml.classification import LogisticRegression\n",
        "from pyspark.ml.evaluation import MulticlassClassificationEvaluator\n",
        "from pyspark.ml.feature import VectorAssembler, VectorIndexer\n",
        "from pyspark.sql import functions as f\n",
        "import time"
      ],
      "metadata": {
        "id": "6dF9XWW8vPVh"
      },
      "execution_count": null,
      "outputs": []
    },
    {
      "cell_type": "code",
      "source": [
        "from pyspark.sql import SparkSession\n",
        "spark = SparkSession.builder.appName('tree').getOrCreate()\n",
        "df = spark.read.csv('/content/drive/MyDrive/Datasets/Thesis/dr16.csv', inferSchema=True, header=True)\n",
        "df.printSchema()"
      ],
      "metadata": {
        "colab": {
          "base_uri": "https://localhost:8080/"
        },
        "id": "Qa-GJ2SeVxAv",
        "outputId": "4eff753b-3af6-443d-8b28-0973bb039bb0"
      },
      "execution_count": null,
      "outputs": [
        {
          "output_type": "stream",
          "name": "stdout",
          "text": [
            "root\n",
            " |-- _c0: integer (nullable = true)\n",
            " |-- objid: double (nullable = true)\n",
            " |-- modelMag_u: double (nullable = true)\n",
            " |-- modelMag_g: double (nullable = true)\n",
            " |-- modelMag_r: double (nullable = true)\n",
            " |-- modelMag_i: double (nullable = true)\n",
            " |-- modelMag_z: double (nullable = true)\n",
            " |-- fiberMag_u: double (nullable = true)\n",
            " |-- fiberMag_g: double (nullable = true)\n",
            " |-- fiberMag_r: double (nullable = true)\n",
            " |-- fiberMag_i: double (nullable = true)\n",
            " |-- fiberMag_z: double (nullable = true)\n",
            " |-- petroR50_r: double (nullable = true)\n",
            " |-- petroR90_r: double (nullable = true)\n",
            " |-- petroR50_z: double (nullable = true)\n",
            " |-- petroR90_z: double (nullable = true)\n",
            " |-- r: double (nullable = true)\n",
            " |-- i: double (nullable = true)\n",
            " |-- z: double (nullable = true)\n",
            " |-- redshift: double (nullable = true)\n",
            " |-- zerr: double (nullable = true)\n",
            " |-- mmug: double (nullable = true)\n",
            " |-- mmgr: double (nullable = true)\n",
            " |-- mmri: double (nullable = true)\n",
            " |-- mmiz: double (nullable = true)\n",
            " |-- mfug: double (nullable = true)\n",
            " |-- mfgr: double (nullable = true)\n",
            " |-- mfri: double (nullable = true)\n",
            " |-- mfiz: double (nullable = true)\n",
            "\n"
          ]
        }
      ]
    },
    {
      "cell_type": "code",
      "execution_count": null,
      "metadata": {
        "id": "4wwQfWO3SGop",
        "colab": {
          "base_uri": "https://localhost:8080/"
        },
        "outputId": "f510537f-1798-482a-b25c-3e6bba214050"
      },
      "outputs": [
        {
          "output_type": "stream",
          "name": "stdout",
          "text": [
            "+----------+----------+----------+----------+----------+----------+----------+----------+----------+----------+------------------+----------+------------------+----------+--------+--------+--------+---------+-----------------+---------+------------------+---------+--------+------------------+---------+--------+------------------+\n",
            "|modelMag_u|modelMag_g|modelMag_r|modelMag_i|modelMag_z|fiberMag_u|fiberMag_g|fiberMag_r|fiberMag_i|fiberMag_z|        petroR50_r|petroR90_r|        petroR50_z|petroR90_z|       r|       i|       z| redshift|             zerr|     mmug|              mmgr|     mmri|    mmiz|              mfug|     mfgr|    mfri|              mfiz|\n",
            "+----------+----------+----------+----------+----------+----------+----------+----------+----------+----------+------------------+----------+------------------+----------+--------+--------+--------+---------+-----------------+---------+------------------+---------+--------+------------------+---------+--------+------------------+\n",
            "|  21.63269|  21.27911|   21.2255|   20.9569|  20.82752|  22.05036|  21.62439|  21.64663|  21.32027|  21.40336|         0.5628045|  1.068754|         0.1665651| 0.2384792| 21.2255| 20.9569|20.82752| 1.839604|       0.00114596|  21.4559|         21.252305|  21.0912|20.89221|         21.837375| 21.63551|21.48345|         21.361815|\n",
            "|  19.74829|  19.45819|  19.33118|  19.01371|  18.80369|   20.1019|  19.79539|   19.6658|  19.35386|  19.15471|0.6310041000000001|  1.339584|0.6024786999999999|  1.350725|19.33118|19.01371|18.80369| 2.069321|3.538733999999E-4| 19.60324|         19.394685|19.172445| 18.9087|         19.948645|19.730595|19.50983|19.254285000000003|\n",
            "|  23.74654|  23.19651|  22.01303|  20.80744|   19.9166|  24.60136|  23.64122|   22.4804|  21.31004|  20.34262|         0.6455957|  1.295767|         0.9235029|   2.04388|22.01303|20.80744| 19.9166|0.8145882|      2.123906E-4|23.471525|          22.60477|21.410235|20.36202|          24.12129| 23.06081|21.89522|          20.82633|\n",
            "|  20.63075|  20.25426|  20.04478|  19.79378|  19.70326|  20.99431|  20.60174|  20.40031|  20.19795|    19.958|          0.657796|  1.482055|         0.7643448|   1.48065|20.04478|19.79378|19.70326| 1.455912|      3.944229E-4|20.442505|20.149520000000003| 19.91928|19.74852|20.798025000000003|20.501025|20.29913|         20.077975|\n",
            "|  21.38126|  21.13488|  21.09993|  20.92882|  20.80634|  21.85225|   21.4586|   21.4534|  21.19782|  20.63075|0.7288965000000001|  2.212801|          1.027675|  1.458456|21.09993|20.92882|20.80634|  1.65113|7.600511999999E-4| 21.25807|         21.117405|21.014375|20.86758|         21.655425|   21.456|21.32561|         20.914285|\n",
            "+----------+----------+----------+----------+----------+----------+----------+----------+----------+----------+------------------+----------+------------------+----------+--------+--------+--------+---------+-----------------+---------+------------------+---------+--------+------------------+---------+--------+------------------+\n",
            "only showing top 5 rows\n",
            "\n"
          ]
        }
      ],
      "source": [
        "df = df.drop('objid', '_c0')\n",
        "df.show(5)"
      ]
    },
    {
      "cell_type": "code",
      "source": [
        "print(df.count(), len(df.columns))"
      ],
      "metadata": {
        "colab": {
          "base_uri": "https://localhost:8080/"
        },
        "id": "HwmNqB0Aui5l",
        "outputId": "1d768eb1-ffea-4213-a3e3-b6cc594a9091"
      },
      "execution_count": null,
      "outputs": [
        {
          "output_type": "stream",
          "name": "stdout",
          "text": [
            "3524477 27\n"
          ]
        }
      ]
    },
    {
      "cell_type": "code",
      "source": [
        "### Remove Duplicate rows in Dataframe\n",
        "df = df.dropDuplicates()\n",
        "print(df.count(), len(df.columns))"
      ],
      "metadata": {
        "colab": {
          "base_uri": "https://localhost:8080/"
        },
        "id": "sfZeY7TQulBp",
        "outputId": "7a3f1059-d50a-459f-b2e3-947c01ac5f50"
      },
      "execution_count": null,
      "outputs": [
        {
          "output_type": "stream",
          "name": "stdout",
          "text": [
            "3524477 27\n"
          ]
        }
      ]
    },
    {
      "cell_type": "code",
      "source": [
        "import pyspark.sql.functions as func\n",
        "\n",
        "df = df.withColumn(\"redshift\", func.round(df[\"redshift\"], 2).cast('integer'))"
      ],
      "metadata": {
        "id": "ZdRPfrERuogu"
      },
      "execution_count": null,
      "outputs": []
    },
    {
      "cell_type": "code",
      "source": [
        "import pandas as pd\n",
        "pd.DataFrame(df.take(5), columns = df.columns).transpose()"
      ],
      "metadata": {
        "colab": {
          "base_uri": "https://localhost:8080/",
          "height": 895
        },
        "id": "vy9IQoHsusTK",
        "outputId": "abba3b47-24d5-4887-9ba3-c49bf718b2dd"
      },
      "execution_count": null,
      "outputs": [
        {
          "output_type": "execute_result",
          "data": {
            "text/html": [
              "\n",
              "  <div id=\"df-75c42fbd-573f-46ec-84b1-783d9432639f\">\n",
              "    <div class=\"colab-df-container\">\n",
              "      <div>\n",
              "<style scoped>\n",
              "    .dataframe tbody tr th:only-of-type {\n",
              "        vertical-align: middle;\n",
              "    }\n",
              "\n",
              "    .dataframe tbody tr th {\n",
              "        vertical-align: top;\n",
              "    }\n",
              "\n",
              "    .dataframe thead th {\n",
              "        text-align: right;\n",
              "    }\n",
              "</style>\n",
              "<table border=\"1\" class=\"dataframe\">\n",
              "  <thead>\n",
              "    <tr style=\"text-align: right;\">\n",
              "      <th></th>\n",
              "      <th>0</th>\n",
              "      <th>1</th>\n",
              "      <th>2</th>\n",
              "      <th>3</th>\n",
              "      <th>4</th>\n",
              "    </tr>\n",
              "  </thead>\n",
              "  <tbody>\n",
              "    <tr>\n",
              "      <th>modelMag_u</th>\n",
              "      <td>21.322890</td>\n",
              "      <td>21.540440</td>\n",
              "      <td>24.099690</td>\n",
              "      <td>19.703640</td>\n",
              "      <td>21.891370</td>\n",
              "    </tr>\n",
              "    <tr>\n",
              "      <th>modelMag_g</th>\n",
              "      <td>21.199790</td>\n",
              "      <td>21.344430</td>\n",
              "      <td>21.893860</td>\n",
              "      <td>17.857980</td>\n",
              "      <td>19.901890</td>\n",
              "    </tr>\n",
              "    <tr>\n",
              "      <th>modelMag_r</th>\n",
              "      <td>20.978130</td>\n",
              "      <td>20.455390</td>\n",
              "      <td>20.295770</td>\n",
              "      <td>16.785280</td>\n",
              "      <td>18.379160</td>\n",
              "    </tr>\n",
              "    <tr>\n",
              "      <th>modelMag_i</th>\n",
              "      <td>20.786010</td>\n",
              "      <td>19.635970</td>\n",
              "      <td>19.441590</td>\n",
              "      <td>16.337970</td>\n",
              "      <td>17.835950</td>\n",
              "    </tr>\n",
              "    <tr>\n",
              "      <th>modelMag_z</th>\n",
              "      <td>20.602870</td>\n",
              "      <td>19.201110</td>\n",
              "      <td>19.201700</td>\n",
              "      <td>16.005240</td>\n",
              "      <td>17.496330</td>\n",
              "    </tr>\n",
              "    <tr>\n",
              "      <th>fiberMag_u</th>\n",
              "      <td>21.721530</td>\n",
              "      <td>22.420790</td>\n",
              "      <td>24.791400</td>\n",
              "      <td>20.956700</td>\n",
              "      <td>22.894670</td>\n",
              "    </tr>\n",
              "    <tr>\n",
              "      <th>fiberMag_g</th>\n",
              "      <td>21.571780</td>\n",
              "      <td>22.167020</td>\n",
              "      <td>22.645580</td>\n",
              "      <td>19.119800</td>\n",
              "      <td>20.870210</td>\n",
              "    </tr>\n",
              "    <tr>\n",
              "      <th>fiberMag_r</th>\n",
              "      <td>21.418020</td>\n",
              "      <td>21.318560</td>\n",
              "      <td>21.237360</td>\n",
              "      <td>18.061850</td>\n",
              "      <td>19.368600</td>\n",
              "    </tr>\n",
              "    <tr>\n",
              "      <th>fiberMag_i</th>\n",
              "      <td>21.290620</td>\n",
              "      <td>20.557740</td>\n",
              "      <td>20.370210</td>\n",
              "      <td>17.609200</td>\n",
              "      <td>18.812600</td>\n",
              "    </tr>\n",
              "    <tr>\n",
              "      <th>fiberMag_z</th>\n",
              "      <td>21.389900</td>\n",
              "      <td>20.050190</td>\n",
              "      <td>20.087840</td>\n",
              "      <td>17.276210</td>\n",
              "      <td>18.468090</td>\n",
              "    </tr>\n",
              "    <tr>\n",
              "      <th>petroR50_r</th>\n",
              "      <td>0.706643</td>\n",
              "      <td>1.324028</td>\n",
              "      <td>1.441734</td>\n",
              "      <td>1.968045</td>\n",
              "      <td>1.514206</td>\n",
              "    </tr>\n",
              "    <tr>\n",
              "      <th>petroR90_r</th>\n",
              "      <td>1.368751</td>\n",
              "      <td>2.498909</td>\n",
              "      <td>3.625134</td>\n",
              "      <td>6.430813</td>\n",
              "      <td>4.067373</td>\n",
              "    </tr>\n",
              "    <tr>\n",
              "      <th>petroR50_z</th>\n",
              "      <td>0.141109</td>\n",
              "      <td>1.282831</td>\n",
              "      <td>2.059727</td>\n",
              "      <td>1.948154</td>\n",
              "      <td>1.487422</td>\n",
              "    </tr>\n",
              "    <tr>\n",
              "      <th>petroR90_z</th>\n",
              "      <td>0.190463</td>\n",
              "      <td>2.290378</td>\n",
              "      <td>4.790148</td>\n",
              "      <td>6.577235</td>\n",
              "      <td>4.122421</td>\n",
              "    </tr>\n",
              "    <tr>\n",
              "      <th>r</th>\n",
              "      <td>20.978130</td>\n",
              "      <td>20.455390</td>\n",
              "      <td>20.295770</td>\n",
              "      <td>16.785280</td>\n",
              "      <td>18.379160</td>\n",
              "    </tr>\n",
              "    <tr>\n",
              "      <th>i</th>\n",
              "      <td>20.786010</td>\n",
              "      <td>19.635970</td>\n",
              "      <td>19.441590</td>\n",
              "      <td>16.337970</td>\n",
              "      <td>17.835950</td>\n",
              "    </tr>\n",
              "    <tr>\n",
              "      <th>z</th>\n",
              "      <td>20.602870</td>\n",
              "      <td>19.201110</td>\n",
              "      <td>19.201700</td>\n",
              "      <td>16.005240</td>\n",
              "      <td>17.496330</td>\n",
              "    </tr>\n",
              "    <tr>\n",
              "      <th>redshift</th>\n",
              "      <td>2.000000</td>\n",
              "      <td>0.000000</td>\n",
              "      <td>0.000000</td>\n",
              "      <td>0.000000</td>\n",
              "      <td>0.000000</td>\n",
              "    </tr>\n",
              "    <tr>\n",
              "      <th>zerr</th>\n",
              "      <td>0.000703</td>\n",
              "      <td>0.000098</td>\n",
              "      <td>0.000169</td>\n",
              "      <td>0.000026</td>\n",
              "      <td>0.000041</td>\n",
              "    </tr>\n",
              "    <tr>\n",
              "      <th>mmug</th>\n",
              "      <td>21.261340</td>\n",
              "      <td>21.442435</td>\n",
              "      <td>22.996775</td>\n",
              "      <td>18.780810</td>\n",
              "      <td>20.896630</td>\n",
              "    </tr>\n",
              "    <tr>\n",
              "      <th>mmgr</th>\n",
              "      <td>21.088960</td>\n",
              "      <td>20.899910</td>\n",
              "      <td>21.094815</td>\n",
              "      <td>17.321630</td>\n",
              "      <td>19.140525</td>\n",
              "    </tr>\n",
              "    <tr>\n",
              "      <th>mmri</th>\n",
              "      <td>20.882070</td>\n",
              "      <td>20.045680</td>\n",
              "      <td>19.868680</td>\n",
              "      <td>16.561625</td>\n",
              "      <td>18.107555</td>\n",
              "    </tr>\n",
              "    <tr>\n",
              "      <th>mmiz</th>\n",
              "      <td>20.694440</td>\n",
              "      <td>19.418540</td>\n",
              "      <td>19.321645</td>\n",
              "      <td>16.171605</td>\n",
              "      <td>17.666140</td>\n",
              "    </tr>\n",
              "    <tr>\n",
              "      <th>mfug</th>\n",
              "      <td>21.646655</td>\n",
              "      <td>22.293905</td>\n",
              "      <td>23.718490</td>\n",
              "      <td>20.038250</td>\n",
              "      <td>21.882440</td>\n",
              "    </tr>\n",
              "    <tr>\n",
              "      <th>mfgr</th>\n",
              "      <td>21.494900</td>\n",
              "      <td>21.742790</td>\n",
              "      <td>21.941470</td>\n",
              "      <td>18.590825</td>\n",
              "      <td>20.119405</td>\n",
              "    </tr>\n",
              "    <tr>\n",
              "      <th>mfri</th>\n",
              "      <td>21.354320</td>\n",
              "      <td>20.938150</td>\n",
              "      <td>20.803785</td>\n",
              "      <td>17.835525</td>\n",
              "      <td>19.090600</td>\n",
              "    </tr>\n",
              "    <tr>\n",
              "      <th>mfiz</th>\n",
              "      <td>21.340260</td>\n",
              "      <td>20.303965</td>\n",
              "      <td>20.229025</td>\n",
              "      <td>17.442705</td>\n",
              "      <td>18.640345</td>\n",
              "    </tr>\n",
              "  </tbody>\n",
              "</table>\n",
              "</div>\n",
              "      <button class=\"colab-df-convert\" onclick=\"convertToInteractive('df-75c42fbd-573f-46ec-84b1-783d9432639f')\"\n",
              "              title=\"Convert this dataframe to an interactive table.\"\n",
              "              style=\"display:none;\">\n",
              "        \n",
              "  <svg xmlns=\"http://www.w3.org/2000/svg\" height=\"24px\"viewBox=\"0 0 24 24\"\n",
              "       width=\"24px\">\n",
              "    <path d=\"M0 0h24v24H0V0z\" fill=\"none\"/>\n",
              "    <path d=\"M18.56 5.44l.94 2.06.94-2.06 2.06-.94-2.06-.94-.94-2.06-.94 2.06-2.06.94zm-11 1L8.5 8.5l.94-2.06 2.06-.94-2.06-.94L8.5 2.5l-.94 2.06-2.06.94zm10 10l.94 2.06.94-2.06 2.06-.94-2.06-.94-.94-2.06-.94 2.06-2.06.94z\"/><path d=\"M17.41 7.96l-1.37-1.37c-.4-.4-.92-.59-1.43-.59-.52 0-1.04.2-1.43.59L10.3 9.45l-7.72 7.72c-.78.78-.78 2.05 0 2.83L4 21.41c.39.39.9.59 1.41.59.51 0 1.02-.2 1.41-.59l7.78-7.78 2.81-2.81c.8-.78.8-2.07 0-2.86zM5.41 20L4 18.59l7.72-7.72 1.47 1.35L5.41 20z\"/>\n",
              "  </svg>\n",
              "      </button>\n",
              "      \n",
              "  <style>\n",
              "    .colab-df-container {\n",
              "      display:flex;\n",
              "      flex-wrap:wrap;\n",
              "      gap: 12px;\n",
              "    }\n",
              "\n",
              "    .colab-df-convert {\n",
              "      background-color: #E8F0FE;\n",
              "      border: none;\n",
              "      border-radius: 50%;\n",
              "      cursor: pointer;\n",
              "      display: none;\n",
              "      fill: #1967D2;\n",
              "      height: 32px;\n",
              "      padding: 0 0 0 0;\n",
              "      width: 32px;\n",
              "    }\n",
              "\n",
              "    .colab-df-convert:hover {\n",
              "      background-color: #E2EBFA;\n",
              "      box-shadow: 0px 1px 2px rgba(60, 64, 67, 0.3), 0px 1px 3px 1px rgba(60, 64, 67, 0.15);\n",
              "      fill: #174EA6;\n",
              "    }\n",
              "\n",
              "    [theme=dark] .colab-df-convert {\n",
              "      background-color: #3B4455;\n",
              "      fill: #D2E3FC;\n",
              "    }\n",
              "\n",
              "    [theme=dark] .colab-df-convert:hover {\n",
              "      background-color: #434B5C;\n",
              "      box-shadow: 0px 1px 3px 1px rgba(0, 0, 0, 0.15);\n",
              "      filter: drop-shadow(0px 1px 2px rgba(0, 0, 0, 0.3));\n",
              "      fill: #FFFFFF;\n",
              "    }\n",
              "  </style>\n",
              "\n",
              "      <script>\n",
              "        const buttonEl =\n",
              "          document.querySelector('#df-75c42fbd-573f-46ec-84b1-783d9432639f button.colab-df-convert');\n",
              "        buttonEl.style.display =\n",
              "          google.colab.kernel.accessAllowed ? 'block' : 'none';\n",
              "\n",
              "        async function convertToInteractive(key) {\n",
              "          const element = document.querySelector('#df-75c42fbd-573f-46ec-84b1-783d9432639f');\n",
              "          const dataTable =\n",
              "            await google.colab.kernel.invokeFunction('convertToInteractive',\n",
              "                                                     [key], {});\n",
              "          if (!dataTable) return;\n",
              "\n",
              "          const docLinkHtml = 'Like what you see? Visit the ' +\n",
              "            '<a target=\"_blank\" href=https://colab.research.google.com/notebooks/data_table.ipynb>data table notebook</a>'\n",
              "            + ' to learn more about interactive tables.';\n",
              "          element.innerHTML = '';\n",
              "          dataTable['output_type'] = 'display_data';\n",
              "          await google.colab.output.renderOutput(dataTable, element);\n",
              "          const docLink = document.createElement('div');\n",
              "          docLink.innerHTML = docLinkHtml;\n",
              "          element.appendChild(docLink);\n",
              "        }\n",
              "      </script>\n",
              "    </div>\n",
              "  </div>\n",
              "  "
            ],
            "text/plain": [
              "                    0          1          2          3          4\n",
              "modelMag_u  21.322890  21.540440  24.099690  19.703640  21.891370\n",
              "modelMag_g  21.199790  21.344430  21.893860  17.857980  19.901890\n",
              "modelMag_r  20.978130  20.455390  20.295770  16.785280  18.379160\n",
              "modelMag_i  20.786010  19.635970  19.441590  16.337970  17.835950\n",
              "modelMag_z  20.602870  19.201110  19.201700  16.005240  17.496330\n",
              "fiberMag_u  21.721530  22.420790  24.791400  20.956700  22.894670\n",
              "fiberMag_g  21.571780  22.167020  22.645580  19.119800  20.870210\n",
              "fiberMag_r  21.418020  21.318560  21.237360  18.061850  19.368600\n",
              "fiberMag_i  21.290620  20.557740  20.370210  17.609200  18.812600\n",
              "fiberMag_z  21.389900  20.050190  20.087840  17.276210  18.468090\n",
              "petroR50_r   0.706643   1.324028   1.441734   1.968045   1.514206\n",
              "petroR90_r   1.368751   2.498909   3.625134   6.430813   4.067373\n",
              "petroR50_z   0.141109   1.282831   2.059727   1.948154   1.487422\n",
              "petroR90_z   0.190463   2.290378   4.790148   6.577235   4.122421\n",
              "r           20.978130  20.455390  20.295770  16.785280  18.379160\n",
              "i           20.786010  19.635970  19.441590  16.337970  17.835950\n",
              "z           20.602870  19.201110  19.201700  16.005240  17.496330\n",
              "redshift     2.000000   0.000000   0.000000   0.000000   0.000000\n",
              "zerr         0.000703   0.000098   0.000169   0.000026   0.000041\n",
              "mmug        21.261340  21.442435  22.996775  18.780810  20.896630\n",
              "mmgr        21.088960  20.899910  21.094815  17.321630  19.140525\n",
              "mmri        20.882070  20.045680  19.868680  16.561625  18.107555\n",
              "mmiz        20.694440  19.418540  19.321645  16.171605  17.666140\n",
              "mfug        21.646655  22.293905  23.718490  20.038250  21.882440\n",
              "mfgr        21.494900  21.742790  21.941470  18.590825  20.119405\n",
              "mfri        21.354320  20.938150  20.803785  17.835525  19.090600\n",
              "mfiz        21.340260  20.303965  20.229025  17.442705  18.640345"
            ]
          },
          "metadata": {},
          "execution_count": 8
        }
      ]
    },
    {
      "cell_type": "code",
      "source": [
        "df.show(5)"
      ],
      "metadata": {
        "colab": {
          "base_uri": "https://localhost:8080/"
        },
        "id": "lzLwDyLEut4b",
        "outputId": "d77c753b-eadc-4284-becd-1fe0576c3542"
      },
      "execution_count": null,
      "outputs": [
        {
          "output_type": "stream",
          "name": "stdout",
          "text": [
            "+----------+------------------+----------+------------------+------------------+----------+----------+----------+----------+----------+----------+----------+----------+-----------------+--------+------------------+------------------+--------+--------------------+---------+---------+---------+---------+------------------+---------+---------+---------+\n",
            "|modelMag_u|        modelMag_g|modelMag_r|        modelMag_i|        modelMag_z|fiberMag_u|fiberMag_g|fiberMag_r|fiberMag_i|fiberMag_z|petroR50_r|petroR90_r|petroR50_z|       petroR90_z|       r|                 i|                 z|redshift|                zerr|     mmug|     mmgr|     mmri|     mmiz|              mfug|     mfgr|     mfri|     mfiz|\n",
            "+----------+------------------+----------+------------------+------------------+----------+----------+----------+----------+----------+----------+----------+----------+-----------------+--------+------------------+------------------+--------+--------------------+---------+---------+---------+---------+------------------+---------+---------+---------+\n",
            "|  21.32289|          21.19979|  20.97813|          20.78601|20.602870000000003|  21.72153|  21.57178|  21.41802|  21.29062|   21.3899| 0.7066431|  1.368751| 0.1411086|        0.1904632|20.97813|          20.78601|20.602870000000003|       2|         7.031077E-4| 21.26134| 21.08896| 20.88207| 20.69444|         21.646655|  21.4949| 21.35432| 21.34026|\n",
            "|  21.54044|          21.34443|  20.45539|          19.63597|          19.20111|  22.42079|  22.16702|  21.31856|  20.55774|  20.05019|  1.324028|  2.498909|  1.282831|         2.290378|20.45539|          19.63597|          19.20111|       0|          9.78364E-5|21.442435| 20.89991| 20.04568| 19.41854|         22.293905| 21.74279| 20.93815|20.303965|\n",
            "|  24.09969|          21.89386|  20.29577|          19.44159|           19.2017|   24.7914|  22.64558|  21.23736|  20.37021|  20.08784|  1.441734|  3.625134|  2.059727|         4.790148|20.29577|          19.44159|           19.2017|       0|   1.688459999999E-4|22.996775|21.094815| 19.86868|19.321645|          23.71849| 21.94147|20.803785|20.229025|\n",
            "|  19.70364|17.857979999999998|  16.78528|16.337970000000002|          16.00524|   20.9567|   19.1198|  18.06185|   17.6092|  17.27621|  1.968045|  6.430813|  1.948154|6.577235000000001|16.78528|16.337970000000002|          16.00524|       0|          2.56906E-5| 18.78081| 17.32163|16.561625|16.171605|          20.03825|18.590825|17.835525|17.442705|\n",
            "|  21.89137|          19.90189|  18.37916|          17.83595|          17.49633|  22.89467|  20.87021|   19.3686|   18.8126|  18.46809|  1.514206|  4.067373|  1.487422|         4.122421|18.37916|          17.83595|          17.49633|       0|4.140555999999999E-5| 20.89663|19.140525|18.107555| 17.66614|21.882440000000003|20.119405|  19.0906|18.640345|\n",
            "+----------+------------------+----------+------------------+------------------+----------+----------+----------+----------+----------+----------+----------+----------+-----------------+--------+------------------+------------------+--------+--------------------+---------+---------+---------+---------+------------------+---------+---------+---------+\n",
            "only showing top 5 rows\n",
            "\n"
          ]
        }
      ]
    },
    {
      "cell_type": "code",
      "source": [
        "df.columns"
      ],
      "metadata": {
        "colab": {
          "base_uri": "https://localhost:8080/"
        },
        "id": "idCej2dQuw00",
        "outputId": "c6d65c5a-0052-4c79-b1e9-9c2609ca0bd2"
      },
      "execution_count": null,
      "outputs": [
        {
          "output_type": "execute_result",
          "data": {
            "text/plain": [
              "['modelMag_u',\n",
              " 'modelMag_g',\n",
              " 'modelMag_r',\n",
              " 'modelMag_i',\n",
              " 'modelMag_z',\n",
              " 'fiberMag_u',\n",
              " 'fiberMag_g',\n",
              " 'fiberMag_r',\n",
              " 'fiberMag_i',\n",
              " 'fiberMag_z',\n",
              " 'petroR50_r',\n",
              " 'petroR90_r',\n",
              " 'petroR50_z',\n",
              " 'petroR90_z',\n",
              " 'r',\n",
              " 'i',\n",
              " 'z',\n",
              " 'redshift',\n",
              " 'zerr',\n",
              " 'mmug',\n",
              " 'mmgr',\n",
              " 'mmri',\n",
              " 'mmiz',\n",
              " 'mfug',\n",
              " 'mfgr',\n",
              " 'mfri',\n",
              " 'mfiz']"
            ]
          },
          "metadata": {},
          "execution_count": 10
        }
      ]
    },
    {
      "cell_type": "code",
      "source": [
        "#df.show(5)"
      ],
      "metadata": {
        "id": "YZeA03e0uyo2"
      },
      "execution_count": null,
      "outputs": []
    },
    {
      "cell_type": "code",
      "source": [
        "from pyspark.sql.functions import monotonically_increasing_id\n",
        "df = df.withColumn(\"objid\", monotonically_increasing_id())\n",
        "df.show(5)"
      ],
      "metadata": {
        "colab": {
          "base_uri": "https://localhost:8080/"
        },
        "id": "AZuBpwFru0UN",
        "outputId": "9fb37210-edd7-4726-f01f-f008b02f05f6"
      },
      "execution_count": null,
      "outputs": [
        {
          "output_type": "stream",
          "name": "stdout",
          "text": [
            "+----------+------------------+----------+------------------+------------------+----------+----------+----------+----------+----------+----------+----------+----------+-----------------+--------+------------------+------------------+--------+--------------------+---------+---------+---------+---------+------------------+---------+---------+---------+-----+\n",
            "|modelMag_u|        modelMag_g|modelMag_r|        modelMag_i|        modelMag_z|fiberMag_u|fiberMag_g|fiberMag_r|fiberMag_i|fiberMag_z|petroR50_r|petroR90_r|petroR50_z|       petroR90_z|       r|                 i|                 z|redshift|                zerr|     mmug|     mmgr|     mmri|     mmiz|              mfug|     mfgr|     mfri|     mfiz|objid|\n",
            "+----------+------------------+----------+------------------+------------------+----------+----------+----------+----------+----------+----------+----------+----------+-----------------+--------+------------------+------------------+--------+--------------------+---------+---------+---------+---------+------------------+---------+---------+---------+-----+\n",
            "|  21.32289|          21.19979|  20.97813|          20.78601|20.602870000000003|  21.72153|  21.57178|  21.41802|  21.29062|   21.3899| 0.7066431|  1.368751| 0.1411086|        0.1904632|20.97813|          20.78601|20.602870000000003|       2|         7.031077E-4| 21.26134| 21.08896| 20.88207| 20.69444|         21.646655|  21.4949| 21.35432| 21.34026|    0|\n",
            "|  21.54044|          21.34443|  20.45539|          19.63597|          19.20111|  22.42079|  22.16702|  21.31856|  20.55774|  20.05019|  1.324028|  2.498909|  1.282831|         2.290378|20.45539|          19.63597|          19.20111|       0|          9.78364E-5|21.442435| 20.89991| 20.04568| 19.41854|         22.293905| 21.74279| 20.93815|20.303965|    1|\n",
            "|  24.09969|          21.89386|  20.29577|          19.44159|           19.2017|   24.7914|  22.64558|  21.23736|  20.37021|  20.08784|  1.441734|  3.625134|  2.059727|         4.790148|20.29577|          19.44159|           19.2017|       0|   1.688459999999E-4|22.996775|21.094815| 19.86868|19.321645|          23.71849| 21.94147|20.803785|20.229025|    2|\n",
            "|  19.70364|17.857979999999998|  16.78528|16.337970000000002|          16.00524|   20.9567|   19.1198|  18.06185|   17.6092|  17.27621|  1.968045|  6.430813|  1.948154|6.577235000000001|16.78528|16.337970000000002|          16.00524|       0|          2.56906E-5| 18.78081| 17.32163|16.561625|16.171605|          20.03825|18.590825|17.835525|17.442705|    3|\n",
            "|  21.89137|          19.90189|  18.37916|          17.83595|          17.49633|  22.89467|  20.87021|   19.3686|   18.8126|  18.46809|  1.514206|  4.067373|  1.487422|         4.122421|18.37916|          17.83595|          17.49633|       0|4.140555999999999E-5| 20.89663|19.140525|18.107555| 17.66614|21.882440000000003|20.119405|  19.0906|18.640345|    4|\n",
            "+----------+------------------+----------+------------------+------------------+----------+----------+----------+----------+----------+----------+----------+----------+-----------------+--------+------------------+------------------+--------+--------------------+---------+---------+---------+---------+------------------+---------+---------+---------+-----+\n",
            "only showing top 5 rows\n",
            "\n"
          ]
        }
      ]
    },
    {
      "cell_type": "code",
      "source": [
        "from pyspark.ml.feature import VectorAssembler\n",
        "assembler = VectorAssembler(inputCols = ['modelMag_u', 'modelMag_g', 'modelMag_r', 'modelMag_i', 'modelMag_z', 'fiberMag_u', 'fiberMag_g', 'fiberMag_r', 'fiberMag_i', 'fiberMag_z', 'petroR50_r', 'petroR90_r', 'petroR50_z', 'petroR90_z', 'r', 'i', 'z', 'mmug', 'mmgr', 'mmri', 'mmiz', 'mfug', 'mfgr', 'mfri', 'mfiz'], outputCol = 'features')"
      ],
      "metadata": {
        "id": "t4X5fm32u2t7"
      },
      "execution_count": null,
      "outputs": []
    },
    {
      "cell_type": "code",
      "source": [
        "output = assembler.transform(df)"
      ],
      "metadata": {
        "id": "goWOVsZBu6WF"
      },
      "execution_count": null,
      "outputs": []
    },
    {
      "cell_type": "code",
      "source": [
        "final_df = output.select('features', 'redshift')\n",
        "final_df.show(3)"
      ],
      "metadata": {
        "colab": {
          "base_uri": "https://localhost:8080/"
        },
        "id": "nxcwbi_Mu9lL",
        "outputId": "73d56601-025f-40b6-836d-34c41b5bbaf1"
      },
      "execution_count": null,
      "outputs": [
        {
          "output_type": "stream",
          "name": "stdout",
          "text": [
            "+--------------------+--------+\n",
            "|            features|redshift|\n",
            "+--------------------+--------+\n",
            "|[21.32289,21.1997...|       2|\n",
            "|[21.54044,21.3444...|       0|\n",
            "|[24.09969,21.8938...|       0|\n",
            "+--------------------+--------+\n",
            "only showing top 3 rows\n",
            "\n"
          ]
        }
      ]
    },
    {
      "cell_type": "code",
      "source": [
        "train, test = final_df.randomSplit([0.7, 0.3])"
      ],
      "metadata": {
        "id": "YJFJDJCcu_Jd"
      },
      "execution_count": null,
      "outputs": []
    },
    {
      "cell_type": "code",
      "source": [
        "classifier = LogisticRegression(labelCol = 'redshift', featuresCol = 'features')"
      ],
      "metadata": {
        "id": "rkvGt1I8vIml"
      },
      "execution_count": null,
      "outputs": []
    },
    {
      "cell_type": "code",
      "source": [
        "start_time = time.time()\n",
        "model = classifier.fit(train)\n",
        "print(\"%s seconds\" % (time.time() - start_time))"
      ],
      "metadata": {
        "id": "Cq6BRqJHvVde",
        "colab": {
          "base_uri": "https://localhost:8080/"
        },
        "outputId": "dbab87f8-bd7a-4901-c403-f8ec86365a59"
      },
      "execution_count": null,
      "outputs": [
        {
          "output_type": "stream",
          "name": "stdout",
          "text": [
            "439.68651008605957 seconds\n"
          ]
        }
      ]
    },
    {
      "cell_type": "code",
      "source": [
        "pred_data = model.transform(test)"
      ],
      "metadata": {
        "id": "807zNslKvdxY"
      },
      "execution_count": null,
      "outputs": []
    },
    {
      "cell_type": "code",
      "source": [
        "pred_data.head(1)"
      ],
      "metadata": {
        "colab": {
          "base_uri": "https://localhost:8080/"
        },
        "id": "FkNSybCPvffj",
        "outputId": "73833b9a-2170-4634-d893-80612c6cb6e6"
      },
      "execution_count": null,
      "outputs": [
        {
          "output_type": "execute_result",
          "data": {
            "text/plain": [
              "[Row(features=DenseVector([13.6842, 11.889, 11.0987, 10.7008, 10.4458, 17.821, 15.8097, 14.9329, 14.4994, 14.2255, 21.1807, 57.1594, 17.7503, 47.1944, 11.0987, 10.7008, 10.4458, 12.7866, 11.4939, 10.8997, 10.5733, 16.8153, 15.3713, 14.7162, 14.3625]), redshift=0, rawPrediction=DenseVector([44.1393, 16.7517, -12.1266, -38.9708, -31.3665, 9.3028, 15.1299, -2.8599]), probability=DenseVector([1.0, 0.0, 0.0, 0.0, 0.0, 0.0, 0.0, 0.0]), prediction=0.0)]"
            ]
          },
          "metadata": {},
          "execution_count": 20
        }
      ]
    },
    {
      "cell_type": "code",
      "source": [
        "evaluator = MulticlassClassificationEvaluator(metricName = 'accuracy',labelCol = 'redshift')"
      ],
      "metadata": {
        "id": "oMtd-uVmvh1Q"
      },
      "execution_count": null,
      "outputs": []
    },
    {
      "cell_type": "code",
      "source": [
        "AUC = evaluator.evaluate(pred_data)"
      ],
      "metadata": {
        "id": "ic7otZgIvkHY"
      },
      "execution_count": null,
      "outputs": []
    },
    {
      "cell_type": "code",
      "source": [
        "print(AUC)"
      ],
      "metadata": {
        "colab": {
          "base_uri": "https://localhost:8080/"
        },
        "id": "dHGnJg1MvoA8",
        "outputId": "fabb50bd-d79f-46db-a38b-45f336044d63"
      },
      "execution_count": null,
      "outputs": [
        {
          "output_type": "stream",
          "name": "stdout",
          "text": [
            "0.8917375874795035\n"
          ]
        }
      ]
    },
    {
      "cell_type": "code",
      "source": [
        "print('test data (weightedPrecision): ', evaluator.setMetricName('weightedPrecision').evaluate(pred_data))\n",
        "print('test data (weightedRecall): ', evaluator.setMetricName('weightedRecall').evaluate(pred_data))"
      ],
      "metadata": {
        "colab": {
          "base_uri": "https://localhost:8080/"
        },
        "id": "omcfObPB2DOH",
        "outputId": "e33f67c7-03fd-41b2-9b7c-9c09637bd462"
      },
      "execution_count": null,
      "outputs": [
        {
          "output_type": "stream",
          "name": "stdout",
          "text": [
            "test data (weightedPrecision):  0.8895100973804296\n",
            "test data (weightedRecall):  0.8917375874795034\n"
          ]
        }
      ]
    },
    {
      "cell_type": "code",
      "source": [
        ""
      ],
      "metadata": {
        "id": "NmTKF-C8vpg7"
      },
      "execution_count": null,
      "outputs": []
    },
    {
      "cell_type": "code",
      "source": [
        "evaluator = MulticlassClassificationEvaluator(predictionCol=\"prediction\",labelCol = 'redshift')\n",
        "predictionAndTarget = model.transform(final_df).select(\"redshift\", \"prediction\")\n",
        "acc = evaluator.evaluate(predictionAndTarget, {evaluator.metricName: \"accuracy\"})\n",
        "print(acc)"
      ],
      "metadata": {
        "id": "SF2EsJAevrap",
        "colab": {
          "base_uri": "https://localhost:8080/"
        },
        "outputId": "e8090a61-9831-4f66-a1ba-5bb4b04267f4"
      },
      "execution_count": null,
      "outputs": [
        {
          "output_type": "stream",
          "name": "stdout",
          "text": [
            "0.8918642397155663\n"
          ]
        }
      ]
    },
    {
      "cell_type": "markdown",
      "source": [
        "# Cascading"
      ],
      "metadata": {
        "id": "Gc24n5r_zfSp"
      }
    },
    {
      "cell_type": "code",
      "source": [
        "pred_data2 = model.transform(final_df)"
      ],
      "metadata": {
        "id": "rukDD_dPzhtr"
      },
      "execution_count": null,
      "outputs": []
    },
    {
      "cell_type": "code",
      "source": [
        "pred_data2.count()"
      ],
      "metadata": {
        "id": "1hNGrPJz9Evl",
        "colab": {
          "base_uri": "https://localhost:8080/"
        },
        "outputId": "498dc1c3-c1e1-4e0b-a463-0b3b3f9ef023"
      },
      "execution_count": null,
      "outputs": [
        {
          "output_type": "execute_result",
          "data": {
            "text/plain": [
              "3524477"
            ]
          },
          "metadata": {},
          "execution_count": 28
        }
      ]
    },
    {
      "cell_type": "code",
      "source": [
        "pred_data2.show(5)"
      ],
      "metadata": {
        "id": "Pq9Hv_Vczwo-",
        "colab": {
          "base_uri": "https://localhost:8080/"
        },
        "outputId": "71e3408c-4520-4f04-af8e-45fc8dc22384"
      },
      "execution_count": null,
      "outputs": [
        {
          "output_type": "stream",
          "name": "stdout",
          "text": [
            "+--------------------+--------+--------------------+--------------------+----------+\n",
            "|            features|redshift|       rawPrediction|         probability|prediction|\n",
            "+--------------------+--------+--------------------+--------------------+----------+\n",
            "|[21.32289,21.1997...|       2|[2.82891209690775...|[0.12433162639974...|       1.0|\n",
            "|[21.54044,21.3444...|       0|[6.60756029169412...|[0.92606750232092...|       0.0|\n",
            "|[24.09969,21.8938...|       0|[6.74758155424796...|[0.99493005913909...|       0.0|\n",
            "|[19.70364,17.8579...|       0|[8.72007909819839...|[0.99750849911570...|       0.0|\n",
            "|[21.89137,19.9018...|       0|[7.43703470704134...|[0.99673433458083...|       0.0|\n",
            "+--------------------+--------+--------------------+--------------------+----------+\n",
            "only showing top 5 rows\n",
            "\n"
          ]
        }
      ]
    },
    {
      "cell_type": "code",
      "source": [
        "from pyspark.sql.functions import monotonically_increasing_id\n",
        "pred_data2 = pred_data2.withColumn(\"objid\", monotonically_increasing_id())\n",
        "pred_data2.show(5)"
      ],
      "metadata": {
        "id": "TgFEu9oez1KJ",
        "colab": {
          "base_uri": "https://localhost:8080/"
        },
        "outputId": "c96d1477-0bc1-4df4-9bf3-aac16794d53a"
      },
      "execution_count": null,
      "outputs": [
        {
          "output_type": "stream",
          "name": "stdout",
          "text": [
            "+--------------------+--------+--------------------+--------------------+----------+-----+\n",
            "|            features|redshift|       rawPrediction|         probability|prediction|objid|\n",
            "+--------------------+--------+--------------------+--------------------+----------+-----+\n",
            "|[21.32289,21.1997...|       2|[2.82891209690775...|[0.12433162639974...|       1.0|    0|\n",
            "|[21.54044,21.3444...|       0|[6.60756029169412...|[0.92606750232092...|       0.0|    1|\n",
            "|[24.09969,21.8938...|       0|[6.74758155424796...|[0.99493005913909...|       0.0|    2|\n",
            "|[19.70364,17.8579...|       0|[8.72007909819839...|[0.99750849911570...|       0.0|    3|\n",
            "|[21.89137,19.9018...|       0|[7.43703470704134...|[0.99673433458083...|       0.0|    4|\n",
            "+--------------------+--------+--------------------+--------------------+----------+-----+\n",
            "only showing top 5 rows\n",
            "\n"
          ]
        }
      ]
    },
    {
      "cell_type": "code",
      "source": [
        "print(df.count(), len(df.columns))\n",
        "print(pred_data2.count(), len(pred_data2.columns))\n",
        "\n",
        "new_df = df.join(pred_data2, df.objid == pred_data2.objid).select(df[\"*\"],pred_data2[\"prediction\"])\n",
        "#new_df = df.join(dt_predictions, df.objid == dt_predictions.objid)\n",
        "new_df.show(5)"
      ],
      "metadata": {
        "colab": {
          "base_uri": "https://localhost:8080/"
        },
        "id": "8jxw5nZ-0OUQ",
        "outputId": "cf725fbb-63ec-484d-a005-61656d488e91"
      },
      "execution_count": null,
      "outputs": [
        {
          "output_type": "stream",
          "name": "stdout",
          "text": [
            "3524477 28\n",
            "3524477 6\n",
            "+----------+----------+----------+----------+------------------+----------+----------+----------+----------+----------+------------------+----------+------------------+------------------+--------+--------+------------------+--------+-----------+---------+---------+------------------+---------+------------------+---------+---------+--------+-----+----------+\n",
            "|modelMag_u|modelMag_g|modelMag_r|modelMag_i|        modelMag_z|fiberMag_u|fiberMag_g|fiberMag_r|fiberMag_i|fiberMag_z|        petroR50_r|petroR90_r|        petroR50_z|        petroR90_z|       r|       i|                 z|redshift|       zerr|     mmug|     mmgr|              mmri|     mmiz|              mfug|     mfgr|     mfri|    mfiz|objid|prediction|\n",
            "+----------+----------+----------+----------+------------------+----------+----------+----------+----------+----------+------------------+----------+------------------+------------------+--------+--------+------------------+--------+-----------+---------+---------+------------------+---------+------------------+---------+---------+--------+-----+----------+\n",
            "|  21.32289|  21.19979|  20.97813|  20.78601|20.602870000000003|  21.72153|  21.57178|  21.41802|  21.29062|   21.3899|         0.7066431|  1.368751|         0.1411086|         0.1904632|20.97813|20.78601|20.602870000000003|       2|7.031077E-4| 21.26134| 21.08896|          20.88207| 20.69444|         21.646655|  21.4949| 21.35432|21.34026|    0|       1.0|\n",
            "|  20.66357|  20.02936|  19.95646|  19.70925|          19.40653|  21.07577|  20.43311|  20.38928|  20.18395|  19.82281|         0.9736327|  1.993752|         0.6258045|          1.190193|19.95646|19.70925|          19.40653|       0|1.245504E-4|20.346465| 19.99291|         19.832855| 19.55789|          20.75444|20.411195|20.286615|20.00338|    7|       0.0|\n",
            "|  21.01588|  20.81951|  20.65437|  20.53774|          20.37904|  21.46435|  21.14963|  21.03901|  20.88442|  21.10408|0.5687998000000001|  1.216179|         0.3363259|0.4880627999999999|20.65437|20.53774|          20.37904|       1|9.079105E-4|20.917695| 20.73694|         20.596055| 20.45839|          21.30699| 21.09432|20.961715|20.99425|   19|       1.0|\n",
            "|  22.49526|   21.7516|  21.62907|  21.76238|           20.9695|  22.43282|   22.1746|  22.00337|  22.34761|  21.54095|         0.6681512|  1.190294|0.8587638000000001|          2.561907|21.62907|21.76238|           20.9695|       0|4.929003E-5| 22.12343|21.690335|21.695725000000003| 21.36594|          22.30371|22.088985| 22.17549|21.94428|   22|       2.0|\n",
            "|   24.0991|  22.13302|  20.39438|  19.31684|          18.95611|  24.94506|  23.33666|  21.82186|  20.67978|  20.28582| 8.518182000000001|  16.77202|          15.97099|          19.45696|20.39438|19.31684|          18.95611|       0|1.798638E-4| 23.11606|  21.2637|          19.85561|19.136475|24.140860000000004| 22.57926| 21.25082| 20.4828|   26|       0.0|\n",
            "+----------+----------+----------+----------+------------------+----------+----------+----------+----------+----------+------------------+----------+------------------+------------------+--------+--------+------------------+--------+-----------+---------+---------+------------------+---------+------------------+---------+---------+--------+-----+----------+\n",
            "only showing top 5 rows\n",
            "\n"
          ]
        }
      ]
    },
    {
      "cell_type": "code",
      "source": [
        "assembler = VectorAssembler(inputCols = ['modelMag_u', 'modelMag_g', 'modelMag_r', 'modelMag_i', 'modelMag_z', 'fiberMag_u', 'fiberMag_g', 'fiberMag_r', 'fiberMag_i', 'fiberMag_z', 'petroR50_r', 'petroR90_r', 'petroR50_z', 'petroR90_z', 'r', 'i', 'z', 'mmug', 'mmgr', 'mmri', 'mmiz', 'mfug', 'mfgr', 'mfri', 'mfiz', 'prediction'], outputCol = 'features2')"
      ],
      "metadata": {
        "id": "xvkffAfL0iVy"
      },
      "execution_count": null,
      "outputs": []
    },
    {
      "cell_type": "code",
      "source": [
        "output = assembler.transform(new_df)"
      ],
      "metadata": {
        "id": "pM54buwM1PNp"
      },
      "execution_count": null,
      "outputs": []
    },
    {
      "cell_type": "code",
      "source": [
        "final_df = output.select('features2', 'redshift')\n",
        "final_df.show(3)"
      ],
      "metadata": {
        "colab": {
          "base_uri": "https://localhost:8080/"
        },
        "id": "D4Odwlrz1RpE",
        "outputId": "6d0da364-b74f-47e0-caca-dbe6f7a92c4b"
      },
      "execution_count": null,
      "outputs": [
        {
          "output_type": "stream",
          "name": "stdout",
          "text": [
            "+--------------------+--------+\n",
            "|           features2|redshift|\n",
            "+--------------------+--------+\n",
            "|[21.32289,21.1997...|       2|\n",
            "|[20.66357,20.0293...|       0|\n",
            "|[21.01588,20.8195...|       1|\n",
            "+--------------------+--------+\n",
            "only showing top 3 rows\n",
            "\n"
          ]
        }
      ]
    },
    {
      "cell_type": "code",
      "source": [
        "train, test = final_df.randomSplit([0.7, 0.3])"
      ],
      "metadata": {
        "id": "EsYxKk2x1TaM"
      },
      "execution_count": null,
      "outputs": []
    },
    {
      "cell_type": "code",
      "source": [
        "classifier = LogisticRegression(labelCol = 'redshift',featuresCol = 'features2')"
      ],
      "metadata": {
        "id": "zKC8zMKG1VTK"
      },
      "execution_count": null,
      "outputs": []
    },
    {
      "cell_type": "code",
      "source": [
        "model2 = classifier.fit(train)"
      ],
      "metadata": {
        "id": "lTWKQ0lf1j48"
      },
      "execution_count": null,
      "outputs": []
    },
    {
      "cell_type": "code",
      "source": [
        "pred_data2 = model2.transform(test)"
      ],
      "metadata": {
        "id": "nUTq7Ohra28a"
      },
      "execution_count": null,
      "outputs": []
    },
    {
      "cell_type": "code",
      "source": [
        "evaluator = MulticlassClassificationEvaluator(metricName = 'accuracy',labelCol = 'redshift')\n",
        "AUC = evaluator.evaluate(pred_data2)\n",
        "print(AUC)"
      ],
      "metadata": {
        "colab": {
          "base_uri": "https://localhost:8080/"
        },
        "id": "g-BHC2DvbVVF",
        "outputId": "23d05ba2-2920-4cd1-dcf0-44ceea398ad2"
      },
      "execution_count": null,
      "outputs": [
        {
          "output_type": "stream",
          "name": "stdout",
          "text": [
            "0.8918099214377776\n"
          ]
        }
      ]
    },
    {
      "cell_type": "code",
      "source": [
        "print('test data (weightedPrecision): ', evaluator.setMetricName('weightedPrecision').evaluate(pred_data2))\n",
        "print('test data (weightedRecall): ', evaluator.setMetricName('weightedRecall').evaluate(pred_data2))"
      ],
      "metadata": {
        "colab": {
          "base_uri": "https://localhost:8080/"
        },
        "id": "U2D89FB92OXY",
        "outputId": "270e073e-cef8-4d6d-9f0b-f90976134abf"
      },
      "execution_count": null,
      "outputs": [
        {
          "output_type": "stream",
          "name": "stdout",
          "text": [
            "test data (weightedPrecision):  0.8903175797479013\n",
            "test data (weightedRecall):  0.8918099214377776\n"
          ]
        }
      ]
    },
    {
      "cell_type": "code",
      "source": [
        ""
      ],
      "metadata": {
        "id": "1EvrEOPlCA7P"
      },
      "execution_count": null,
      "outputs": []
    }
  ]
}