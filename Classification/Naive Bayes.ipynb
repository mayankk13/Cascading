{
  "nbformat": 4,
  "nbformat_minor": 0,
  "metadata": {
    "colab": {
      "name": "MIT2020013_NaiveBayes.ipynb",
      "provenance": []
    },
    "kernelspec": {
      "name": "python3",
      "display_name": "Python 3"
    },
    "language_info": {
      "name": "python"
    }
  },
  "cells": [
    {
      "cell_type": "code",
      "execution_count": null,
      "metadata": {
        "colab": {
          "base_uri": "https://localhost:8080/"
        },
        "id": "5y-DcjQ7qiD9",
        "outputId": "200d1fcd-f6d7-4d2c-afcb-50249f439bf2"
      },
      "outputs": [
        {
          "output_type": "stream",
          "name": "stdout",
          "text": [
            "Collecting pyspark\n",
            "  Downloading pyspark-3.2.1.tar.gz (281.4 MB)\n",
            "\u001b[K     |████████████████████████████████| 281.4 MB 33 kB/s \n",
            "\u001b[?25hCollecting py4j==0.10.9.3\n",
            "  Downloading py4j-0.10.9.3-py2.py3-none-any.whl (198 kB)\n",
            "\u001b[K     |████████████████████████████████| 198 kB 49.6 MB/s \n",
            "\u001b[?25hBuilding wheels for collected packages: pyspark\n",
            "  Building wheel for pyspark (setup.py) ... \u001b[?25l\u001b[?25hdone\n",
            "  Created wheel for pyspark: filename=pyspark-3.2.1-py2.py3-none-any.whl size=281853642 sha256=4e8a5021c95022eff2d369091fa39713f39818fcc4bd4a8e96465bf6fa356e46\n",
            "  Stored in directory: /root/.cache/pip/wheels/9f/f5/07/7cd8017084dce4e93e84e92efd1e1d5334db05f2e83bcef74f\n",
            "Successfully built pyspark\n",
            "Installing collected packages: py4j, pyspark\n",
            "Successfully installed py4j-0.10.9.3 pyspark-3.2.1\n"
          ]
        }
      ],
      "source": [
        "!pip install pyspark"
      ]
    },
    {
      "cell_type": "code",
      "source": [
        "from pyspark.ml.classification import NaiveBayes\n",
        "from pyspark.ml.tuning import ParamGridBuilder, CrossValidator\n",
        "from pyspark.ml.evaluation import MulticlassClassificationEvaluator"
      ],
      "metadata": {
        "id": "nLLJkrDU5fIs"
      },
      "execution_count": null,
      "outputs": []
    },
    {
      "cell_type": "code",
      "source": [
        "import time"
      ],
      "metadata": {
        "id": "mkxWBTSTwdab"
      },
      "execution_count": null,
      "outputs": []
    },
    {
      "cell_type": "code",
      "source": [
        "from pyspark.sql import SparkSession\n",
        "\n",
        "spark = SparkSession.builder.appName('tree').getOrCreate()\n",
        "df = spark.read.csv('/content/drive/MyDrive/Datasets/Thesis/dr16.csv', inferSchema=True, header=True)\n",
        "df.printSchema()"
      ],
      "metadata": {
        "colab": {
          "base_uri": "https://localhost:8080/"
        },
        "id": "fY1JjqoA5zDm",
        "outputId": "dc9d66ce-5c73-4f55-b8cb-663553e14d8e"
      },
      "execution_count": null,
      "outputs": [
        {
          "output_type": "stream",
          "name": "stdout",
          "text": [
            "root\n",
            " |-- _c0: integer (nullable = true)\n",
            " |-- objid: double (nullable = true)\n",
            " |-- modelMag_u: double (nullable = true)\n",
            " |-- modelMag_g: double (nullable = true)\n",
            " |-- modelMag_r: double (nullable = true)\n",
            " |-- modelMag_i: double (nullable = true)\n",
            " |-- modelMag_z: double (nullable = true)\n",
            " |-- fiberMag_u: double (nullable = true)\n",
            " |-- fiberMag_g: double (nullable = true)\n",
            " |-- fiberMag_r: double (nullable = true)\n",
            " |-- fiberMag_i: double (nullable = true)\n",
            " |-- fiberMag_z: double (nullable = true)\n",
            " |-- petroR50_r: double (nullable = true)\n",
            " |-- petroR90_r: double (nullable = true)\n",
            " |-- petroR50_z: double (nullable = true)\n",
            " |-- petroR90_z: double (nullable = true)\n",
            " |-- r: double (nullable = true)\n",
            " |-- i: double (nullable = true)\n",
            " |-- z: double (nullable = true)\n",
            " |-- redshift: double (nullable = true)\n",
            " |-- zerr: double (nullable = true)\n",
            " |-- mmug: double (nullable = true)\n",
            " |-- mmgr: double (nullable = true)\n",
            " |-- mmri: double (nullable = true)\n",
            " |-- mmiz: double (nullable = true)\n",
            " |-- mfug: double (nullable = true)\n",
            " |-- mfgr: double (nullable = true)\n",
            " |-- mfri: double (nullable = true)\n",
            " |-- mfiz: double (nullable = true)\n",
            "\n"
          ]
        }
      ]
    },
    {
      "cell_type": "code",
      "source": [
        "print(df.count(), len(df.columns))"
      ],
      "metadata": {
        "colab": {
          "base_uri": "https://localhost:8080/"
        },
        "id": "MAs69sRx50lE",
        "outputId": "ec41fb84-9369-4c79-f925-4aed7c74d6da"
      },
      "execution_count": null,
      "outputs": [
        {
          "output_type": "stream",
          "name": "stdout",
          "text": [
            "3524477 29\n"
          ]
        }
      ]
    },
    {
      "cell_type": "code",
      "source": [
        "df = df.filter((df.modelMag_u != '-9999') & (df.modelMag_g != '-9999') & (df.modelMag_r != '-9999') & (df.modelMag_i != '-9999') & \n",
        "               (df.modelMag_z != '-9999') & (df.fiberMag_u != '-9999') & (df.fiberMag_g != '-9999') & (df.fiberMag_r != '-9999') & \n",
        "               (df.fiberMag_i != '-9999') & (df.fiberMag_z != '-9999') & (df.petroR50_r != '-9999') & (df.petroR90_r != '-9999') & \n",
        "               (df.petroR50_z != '-9999') & (df.petroR90_z != '-9999') & (df.r != '-9999') & (df.i != '-9999') & (df.z != '-9999') & \n",
        "               (df.redshift != '-9999') & (df.zerr != '-9999') & (df.mmug != '-9999') & (df.mmgr != '-9999') & (df.mmri != '-9999') & \n",
        "               (df.mmiz != '-9999') & (df.mfug != '-9999') & (df.mfgr != '-9999') & (df.mfri != '-9999') & (df.mfiz != '-9999'))\n",
        "df.show(5)"
      ],
      "metadata": {
        "colab": {
          "base_uri": "https://localhost:8080/"
        },
        "id": "YII5aY-m7OAv",
        "outputId": "431eb7a8-0685-4676-e5e1-2a21572d21bf"
      },
      "execution_count": null,
      "outputs": [
        {
          "output_type": "stream",
          "name": "stdout",
          "text": [
            "+---+--------------------+----------+----------+----------+----------+----------+----------+----------+----------+----------+----------+------------------+----------+------------------+----------+--------+--------+--------+---------+-----------------+---------+------------------+---------+--------+------------------+---------+--------+------------------+\n",
            "|_c0|               objid|modelMag_u|modelMag_g|modelMag_r|modelMag_i|modelMag_z|fiberMag_u|fiberMag_g|fiberMag_r|fiberMag_i|fiberMag_z|        petroR50_r|petroR90_r|        petroR50_z|petroR90_z|       r|       i|       z| redshift|             zerr|     mmug|              mmgr|     mmri|    mmiz|              mfug|     mfgr|    mfri|              mfiz|\n",
            "+---+--------------------+----------+----------+----------+----------+----------+----------+----------+----------+----------+----------+------------------+----------+------------------+----------+--------+--------+--------+---------+-----------------+---------+------------------+---------+--------+------------------+---------+--------+------------------+\n",
            "|  0|1.237680245739487...|  21.63269|  21.27911|   21.2255|   20.9569|  20.82752|  22.05036|  21.62439|  21.64663|  21.32027|  21.40336|         0.5628045|  1.068754|         0.1665651| 0.2384792| 21.2255| 20.9569|20.82752| 1.839604|       0.00114596|  21.4559|         21.252305|  21.0912|20.89221|         21.837375| 21.63551|21.48345|         21.361815|\n",
            "|  1|1.237680245739487...|  19.74829|  19.45819|  19.33118|  19.01371|  18.80369|   20.1019|  19.79539|   19.6658|  19.35386|  19.15471|0.6310041000000001|  1.339584|0.6024786999999999|  1.350725|19.33118|19.01371|18.80369| 2.069321|3.538733999999E-4| 19.60324|         19.394685|19.172445| 18.9087|         19.948645|19.730595|19.50983|19.254285000000003|\n",
            "|  2|1.237680245739422...|  23.74654|  23.19651|  22.01303|  20.80744|   19.9166|  24.60136|  23.64122|   22.4804|  21.31004|  20.34262|         0.6455957|  1.295767|         0.9235029|   2.04388|22.01303|20.80744| 19.9166|0.8145882|      2.123906E-4|23.471525|          22.60477|21.410235|20.36202|          24.12129| 23.06081|21.89522|          20.82633|\n",
            "|  3|1.237680245739422...|  20.63075|  20.25426|  20.04478|  19.79378|  19.70326|  20.99431|  20.60174|  20.40031|  20.19795|    19.958|          0.657796|  1.482055|         0.7643448|   1.48065|20.04478|19.79378|19.70326| 1.455912|      3.944229E-4|20.442505|20.149520000000003| 19.91928|19.74852|20.798025000000003|20.501025|20.29913|         20.077975|\n",
            "|  4|1.237680245739356...|  21.38126|  21.13488|  21.09993|  20.92882|  20.80634|  21.85225|   21.4586|   21.4534|  21.19782|  20.63075|0.7288965000000001|  2.212801|          1.027675|  1.458456|21.09993|20.92882|20.80634|  1.65113|7.600511999999E-4| 21.25807|         21.117405|21.014375|20.86758|         21.655425|   21.456|21.32561|         20.914285|\n",
            "+---+--------------------+----------+----------+----------+----------+----------+----------+----------+----------+----------+----------+------------------+----------+------------------+----------+--------+--------+--------+---------+-----------------+---------+------------------+---------+--------+------------------+---------+--------+------------------+\n",
            "only showing top 5 rows\n",
            "\n"
          ]
        }
      ]
    },
    {
      "cell_type": "code",
      "source": [
        "print(df.count(), len(df.columns))"
      ],
      "metadata": {
        "colab": {
          "base_uri": "https://localhost:8080/"
        },
        "id": "Ex0zYLrF7Pjn",
        "outputId": "9aa41612-da88-4164-f6d5-d06500981c13"
      },
      "execution_count": null,
      "outputs": [
        {
          "output_type": "stream",
          "name": "stdout",
          "text": [
            "3524477 29\n"
          ]
        }
      ]
    },
    {
      "cell_type": "code",
      "source": [
        "import pyspark.sql.functions as func\n",
        "df = df.withColumn(\"redshift\", func.round(df[\"redshift\"], 2).cast('integer'))"
      ],
      "metadata": {
        "id": "lbJnYQSV7RyN"
      },
      "execution_count": null,
      "outputs": []
    },
    {
      "cell_type": "code",
      "source": [
        "df = df.drop('objid', '_c0')\n",
        "df.show(5)"
      ],
      "metadata": {
        "colab": {
          "base_uri": "https://localhost:8080/"
        },
        "id": "QPPbM8QI7Uy5",
        "outputId": "dbaa8aab-d026-424d-9b6d-a8a85543e506"
      },
      "execution_count": null,
      "outputs": [
        {
          "output_type": "stream",
          "name": "stdout",
          "text": [
            "+----------+----------+----------+----------+----------+----------+----------+----------+----------+----------+------------------+----------+------------------+----------+--------+--------+--------+--------+-----------------+---------+------------------+---------+--------+------------------+---------+--------+------------------+\n",
            "|modelMag_u|modelMag_g|modelMag_r|modelMag_i|modelMag_z|fiberMag_u|fiberMag_g|fiberMag_r|fiberMag_i|fiberMag_z|        petroR50_r|petroR90_r|        petroR50_z|petroR90_z|       r|       i|       z|redshift|             zerr|     mmug|              mmgr|     mmri|    mmiz|              mfug|     mfgr|    mfri|              mfiz|\n",
            "+----------+----------+----------+----------+----------+----------+----------+----------+----------+----------+------------------+----------+------------------+----------+--------+--------+--------+--------+-----------------+---------+------------------+---------+--------+------------------+---------+--------+------------------+\n",
            "|  21.63269|  21.27911|   21.2255|   20.9569|  20.82752|  22.05036|  21.62439|  21.64663|  21.32027|  21.40336|         0.5628045|  1.068754|         0.1665651| 0.2384792| 21.2255| 20.9569|20.82752|       1|       0.00114596|  21.4559|         21.252305|  21.0912|20.89221|         21.837375| 21.63551|21.48345|         21.361815|\n",
            "|  19.74829|  19.45819|  19.33118|  19.01371|  18.80369|   20.1019|  19.79539|   19.6658|  19.35386|  19.15471|0.6310041000000001|  1.339584|0.6024786999999999|  1.350725|19.33118|19.01371|18.80369|       2|3.538733999999E-4| 19.60324|         19.394685|19.172445| 18.9087|         19.948645|19.730595|19.50983|19.254285000000003|\n",
            "|  23.74654|  23.19651|  22.01303|  20.80744|   19.9166|  24.60136|  23.64122|   22.4804|  21.31004|  20.34262|         0.6455957|  1.295767|         0.9235029|   2.04388|22.01303|20.80744| 19.9166|       0|      2.123906E-4|23.471525|          22.60477|21.410235|20.36202|          24.12129| 23.06081|21.89522|          20.82633|\n",
            "|  20.63075|  20.25426|  20.04478|  19.79378|  19.70326|  20.99431|  20.60174|  20.40031|  20.19795|    19.958|          0.657796|  1.482055|         0.7643448|   1.48065|20.04478|19.79378|19.70326|       1|      3.944229E-4|20.442505|20.149520000000003| 19.91928|19.74852|20.798025000000003|20.501025|20.29913|         20.077975|\n",
            "|  21.38126|  21.13488|  21.09993|  20.92882|  20.80634|  21.85225|   21.4586|   21.4534|  21.19782|  20.63075|0.7288965000000001|  2.212801|          1.027675|  1.458456|21.09993|20.92882|20.80634|       1|7.600511999999E-4| 21.25807|         21.117405|21.014375|20.86758|         21.655425|   21.456|21.32561|         20.914285|\n",
            "+----------+----------+----------+----------+----------+----------+----------+----------+----------+----------+------------------+----------+------------------+----------+--------+--------+--------+--------+-----------------+---------+------------------+---------+--------+------------------+---------+--------+------------------+\n",
            "only showing top 5 rows\n",
            "\n"
          ]
        }
      ]
    },
    {
      "cell_type": "code",
      "source": [
        "from pyspark.sql.functions import monotonically_increasing_id\n",
        "df = df.withColumn(\"objid\", monotonically_increasing_id())\n",
        "df.show(5)"
      ],
      "metadata": {
        "colab": {
          "base_uri": "https://localhost:8080/"
        },
        "id": "zTWYDs5W7WNU",
        "outputId": "6cc7310b-e907-41d2-984d-e32ce33e419e"
      },
      "execution_count": null,
      "outputs": [
        {
          "output_type": "stream",
          "name": "stdout",
          "text": [
            "+----------+----------+----------+----------+----------+----------+----------+----------+----------+----------+------------------+----------+------------------+----------+--------+--------+--------+--------+-----------------+---------+------------------+---------+--------+------------------+---------+--------+------------------+-----+\n",
            "|modelMag_u|modelMag_g|modelMag_r|modelMag_i|modelMag_z|fiberMag_u|fiberMag_g|fiberMag_r|fiberMag_i|fiberMag_z|        petroR50_r|petroR90_r|        petroR50_z|petroR90_z|       r|       i|       z|redshift|             zerr|     mmug|              mmgr|     mmri|    mmiz|              mfug|     mfgr|    mfri|              mfiz|objid|\n",
            "+----------+----------+----------+----------+----------+----------+----------+----------+----------+----------+------------------+----------+------------------+----------+--------+--------+--------+--------+-----------------+---------+------------------+---------+--------+------------------+---------+--------+------------------+-----+\n",
            "|  21.63269|  21.27911|   21.2255|   20.9569|  20.82752|  22.05036|  21.62439|  21.64663|  21.32027|  21.40336|         0.5628045|  1.068754|         0.1665651| 0.2384792| 21.2255| 20.9569|20.82752|       1|       0.00114596|  21.4559|         21.252305|  21.0912|20.89221|         21.837375| 21.63551|21.48345|         21.361815|    0|\n",
            "|  19.74829|  19.45819|  19.33118|  19.01371|  18.80369|   20.1019|  19.79539|   19.6658|  19.35386|  19.15471|0.6310041000000001|  1.339584|0.6024786999999999|  1.350725|19.33118|19.01371|18.80369|       2|3.538733999999E-4| 19.60324|         19.394685|19.172445| 18.9087|         19.948645|19.730595|19.50983|19.254285000000003|    1|\n",
            "|  23.74654|  23.19651|  22.01303|  20.80744|   19.9166|  24.60136|  23.64122|   22.4804|  21.31004|  20.34262|         0.6455957|  1.295767|         0.9235029|   2.04388|22.01303|20.80744| 19.9166|       0|      2.123906E-4|23.471525|          22.60477|21.410235|20.36202|          24.12129| 23.06081|21.89522|          20.82633|    2|\n",
            "|  20.63075|  20.25426|  20.04478|  19.79378|  19.70326|  20.99431|  20.60174|  20.40031|  20.19795|    19.958|          0.657796|  1.482055|         0.7643448|   1.48065|20.04478|19.79378|19.70326|       1|      3.944229E-4|20.442505|20.149520000000003| 19.91928|19.74852|20.798025000000003|20.501025|20.29913|         20.077975|    3|\n",
            "|  21.38126|  21.13488|  21.09993|  20.92882|  20.80634|  21.85225|   21.4586|   21.4534|  21.19782|  20.63075|0.7288965000000001|  2.212801|          1.027675|  1.458456|21.09993|20.92882|20.80634|       1|7.600511999999E-4| 21.25807|         21.117405|21.014375|20.86758|         21.655425|   21.456|21.32561|         20.914285|    4|\n",
            "+----------+----------+----------+----------+----------+----------+----------+----------+----------+----------+------------------+----------+------------------+----------+--------+--------+--------+--------+-----------------+---------+------------------+---------+--------+------------------+---------+--------+------------------+-----+\n",
            "only showing top 5 rows\n",
            "\n"
          ]
        }
      ]
    },
    {
      "cell_type": "code",
      "source": [
        "from pyspark.ml.feature import VectorAssembler\n",
        "assembler = VectorAssembler(inputCols = ['modelMag_u', 'modelMag_g', 'modelMag_r', 'modelMag_i', 'modelMag_z', 'fiberMag_u', 'fiberMag_g', 'fiberMag_r', 'fiberMag_i', 'fiberMag_z', 'petroR50_r', 'petroR90_r', 'petroR50_z', 'petroR90_z', 'r', 'i', 'z', 'mmug', 'mmgr', 'mmri', 'mmiz', 'mfug', 'mfgr', 'mfri', 'mfiz'], outputCol = 'features')"
      ],
      "metadata": {
        "id": "ug6yRe-O7YDK"
      },
      "execution_count": null,
      "outputs": []
    },
    {
      "cell_type": "code",
      "source": [
        "output = assembler.transform(df)"
      ],
      "metadata": {
        "id": "ScuFj-dK7a6S"
      },
      "execution_count": null,
      "outputs": []
    },
    {
      "cell_type": "code",
      "source": [
        "final_df = output.select('features', 'redshift')\n",
        "final_df.show(3)"
      ],
      "metadata": {
        "colab": {
          "base_uri": "https://localhost:8080/"
        },
        "id": "pB-ZSOEq7cb7",
        "outputId": "218e069d-0b90-4e86-82c7-81ffe1142d5b"
      },
      "execution_count": null,
      "outputs": [
        {
          "output_type": "stream",
          "name": "stdout",
          "text": [
            "+--------------------+--------+\n",
            "|            features|redshift|\n",
            "+--------------------+--------+\n",
            "|[21.63269,21.2791...|       1|\n",
            "|[19.74829,19.4581...|       2|\n",
            "|[23.74654,23.1965...|       0|\n",
            "+--------------------+--------+\n",
            "only showing top 3 rows\n",
            "\n"
          ]
        }
      ]
    },
    {
      "cell_type": "code",
      "source": [
        "train, test = final_df.randomSplit([0.7, 0.3])"
      ],
      "metadata": {
        "id": "t9IO1q-t7dum"
      },
      "execution_count": null,
      "outputs": []
    },
    {
      "cell_type": "code",
      "source": [
        "from pyspark.ml import Pipeline\n",
        "nb = NaiveBayes(labelCol=\"redshift\", featuresCol=\"features\")"
      ],
      "metadata": {
        "id": "TjYgKOiY7fhl"
      },
      "execution_count": null,
      "outputs": []
    },
    {
      "cell_type": "code",
      "source": [
        "start_time = time.time()\n",
        "model = nb.fit(train)\n",
        "print(\"%s seconds\" % (time.time() - start_time))"
      ],
      "metadata": {
        "id": "f335LC1z8FFt",
        "colab": {
          "base_uri": "https://localhost:8080/"
        },
        "outputId": "40d1b6d0-1e4a-45af-fb1c-f9289c84af3b"
      },
      "execution_count": null,
      "outputs": [
        {
          "output_type": "stream",
          "name": "stdout",
          "text": [
            "83.71453046798706 seconds\n"
          ]
        }
      ]
    },
    {
      "cell_type": "code",
      "source": [
        "pred_test = model.transform(test)"
      ],
      "metadata": {
        "id": "COk5JwZR_GJR"
      },
      "execution_count": null,
      "outputs": []
    },
    {
      "cell_type": "code",
      "source": [
        "multi_evaluator = MulticlassClassificationEvaluator(labelCol = 'redshift', metricName = 'accuracy')\n",
        "print('Naive Bayes Accu:', multi_evaluator.evaluate(pred_test))"
      ],
      "metadata": {
        "colab": {
          "base_uri": "https://localhost:8080/"
        },
        "id": "7P_0ImHO_I3e",
        "outputId": "d56d6250-0bdd-4884-90c0-98dd7991aa12"
      },
      "execution_count": null,
      "outputs": [
        {
          "output_type": "stream",
          "name": "stdout",
          "text": [
            "Naive Bayes Accu: 0.7995456744859011\n"
          ]
        }
      ]
    },
    {
      "cell_type": "markdown",
      "source": [
        ""
      ],
      "metadata": {
        "id": "O3Zw58711w0L"
      }
    },
    {
      "cell_type": "code",
      "source": [
        "print('test data (weightedPrecision): ', multi_evaluator.setMetricName('weightedPrecision').evaluate(pred_test))\n",
        "print('test data (weightedRecall): ', multi_evaluator.setMetricName('weightedRecall').evaluate(pred_test))"
      ],
      "metadata": {
        "colab": {
          "base_uri": "https://localhost:8080/"
        },
        "id": "vpyfKgyUnCOa",
        "outputId": "e23ff997-7f3c-4e69-a968-3273d772e21a"
      },
      "execution_count": null,
      "outputs": [
        {
          "output_type": "stream",
          "name": "stdout",
          "text": [
            "test data (weightedPrecision):  0.8242098924108137\n",
            "test data (weightedRecall):  0.7995456744859011\n"
          ]
        }
      ]
    },
    {
      "cell_type": "markdown",
      "source": [
        "# Cascading"
      ],
      "metadata": {
        "id": "sCWwFm_c_sBR"
      }
    },
    {
      "cell_type": "code",
      "source": [
        "final_pred = model.transform(final_df)\n",
        "final_pred.show(5)"
      ],
      "metadata": {
        "colab": {
          "base_uri": "https://localhost:8080/"
        },
        "id": "z_6orhyB_wtL",
        "outputId": "a567b4c5-acce-412a-a70b-ed0395bcb0be"
      },
      "execution_count": null,
      "outputs": [
        {
          "output_type": "stream",
          "name": "stdout",
          "text": [
            "+--------------------+--------+--------------------+--------------------+----------+\n",
            "|            features|redshift|       rawPrediction|         probability|prediction|\n",
            "+--------------------+--------+--------------------+--------------------+----------+\n",
            "|[21.63269,21.2791...|       1|[-1387.1350793054...|[0.00776090157627...|       1.0|\n",
            "|[19.74829,19.4581...|       2|[-1270.6028212066...|[0.09519426133401...|       1.0|\n",
            "|[23.74654,23.1965...|       0|[-1444.5532189323...|[0.19594392644807...|       1.0|\n",
            "|[20.63075,20.2542...|       1|[-1325.0398747347...|[0.10512706117194...|       1.0|\n",
            "|[21.38126,21.1348...|       1|[-1392.8030810952...|[0.16389959397519...|       1.0|\n",
            "+--------------------+--------+--------------------+--------------------+----------+\n",
            "only showing top 5 rows\n",
            "\n"
          ]
        }
      ]
    },
    {
      "cell_type": "code",
      "source": [
        "from pyspark.sql.functions import monotonically_increasing_id\n",
        "final_pred = final_pred.withColumn(\"objid\", monotonically_increasing_id())\n",
        "final_pred.show(5)"
      ],
      "metadata": {
        "colab": {
          "base_uri": "https://localhost:8080/"
        },
        "id": "AwN53RE6ABoz",
        "outputId": "0dfca8f5-4b43-4980-8e23-f952b9a17d02"
      },
      "execution_count": null,
      "outputs": [
        {
          "output_type": "stream",
          "name": "stdout",
          "text": [
            "+--------------------+--------+--------------------+--------------------+----------+-----+\n",
            "|            features|redshift|       rawPrediction|         probability|prediction|objid|\n",
            "+--------------------+--------+--------------------+--------------------+----------+-----+\n",
            "|[21.63269,21.2791...|       1|[-1387.1350793054...|[0.00776090157627...|       1.0|    0|\n",
            "|[19.74829,19.4581...|       2|[-1270.6028212066...|[0.09519426133401...|       1.0|    1|\n",
            "|[23.74654,23.1965...|       0|[-1444.5532189323...|[0.19594392644807...|       1.0|    2|\n",
            "|[20.63075,20.2542...|       1|[-1325.0398747347...|[0.10512706117194...|       1.0|    3|\n",
            "|[21.38126,21.1348...|       1|[-1392.8030810952...|[0.16389959397519...|       1.0|    4|\n",
            "+--------------------+--------+--------------------+--------------------+----------+-----+\n",
            "only showing top 5 rows\n",
            "\n"
          ]
        }
      ]
    },
    {
      "cell_type": "code",
      "source": [
        "print(df.count(), len(df.columns))\n",
        "new_df = df.join(final_pred, df.objid == final_pred.objid).select(df[\"*\"],final_pred[\"prediction\"])\n",
        "print(df.count(), len(df.columns))\n",
        "new_df.show(5)"
      ],
      "metadata": {
        "colab": {
          "base_uri": "https://localhost:8080/"
        },
        "id": "XkXXMR8cA1u2",
        "outputId": "e27d2f61-da80-4e8e-948b-238fa5db5b8f"
      },
      "execution_count": null,
      "outputs": [
        {
          "output_type": "stream",
          "name": "stdout",
          "text": [
            "3524477 28\n",
            "3524477 28\n",
            "+----------+----------+----------+----------+----------+----------+----------+----------+----------+----------+------------------+------------------+----------+------------------+--------+--------+--------+--------+-----------------+---------+------------------+------------------+---------+---------+---------+---------+---------+-----+----------+\n",
            "|modelMag_u|modelMag_g|modelMag_r|modelMag_i|modelMag_z|fiberMag_u|fiberMag_g|fiberMag_r|fiberMag_i|fiberMag_z|        petroR50_r|        petroR90_r|petroR50_z|        petroR90_z|       r|       i|       z|redshift|             zerr|     mmug|              mmgr|              mmri|     mmiz|     mfug|     mfgr|     mfri|     mfiz|objid|prediction|\n",
            "+----------+----------+----------+----------+----------+----------+----------+----------+----------+----------+------------------+------------------+----------+------------------+--------+--------+--------+--------+-----------------+---------+------------------+------------------+---------+---------+---------+---------+---------+-----+----------+\n",
            "|  21.63269|  21.27911|   21.2255|   20.9569|  20.82752|  22.05036|  21.62439|  21.64663|  21.32027|  21.40336|         0.5628045|          1.068754| 0.1665651|         0.2384792| 21.2255| 20.9569|20.82752|       1|       0.00114596|  21.4559|         21.252305|           21.0912| 20.89221|21.837375| 21.63551| 21.48345|21.361815|    0|       1.0|\n",
            "|  20.90748|  21.23738|  20.69726|  20.69563|  20.47163|  21.29452|  21.57431|  21.06274|  21.12746|  20.99664|0.5783159999999999|          1.171984| 0.3888602|0.6004076999999999|20.69726|20.69563|20.47163|       1|      5.410719E-4| 21.07243|          20.96732|         20.696445| 20.58363|21.434415|21.318525|  21.0951| 21.06205|    7|       1.0|\n",
            "|  23.24831|  21.21389|  20.69018|  20.61149|  20.53478|  23.48123|  21.58843|  21.08554|  20.98268|  20.73203|         0.6263536|1.2026940000000002| 0.6094831|          1.054154|20.69018|20.61149|20.53478|       3|      5.758652E-4|  22.2311|         20.952035|         20.650835|20.573135| 22.53483|21.336985| 21.03411|20.857355|   19|       1.0|\n",
            "|  21.69469|  21.35104|  21.16407|  20.74727|  20.36194|  22.00505|  21.73203|  21.55627|  21.08362|  20.73924|0.7885260999999999|          2.253798| 0.5512555|1.1799309999999998|21.16407|20.74727|20.36194|       0|      2.188243E-4|21.522865|21.257555000000004|          20.95567|20.554605| 21.86854| 21.64415|21.319945| 20.91143|   22|       1.0|\n",
            "|  27.10987|  23.41813|  22.60282|   20.9293|  19.94504|   26.2078|  24.26209|  23.45116|  21.95711|  20.77162| 6.871435000000001|          7.291823|  0.558032|         0.7260472|22.60282| 20.9293|19.94504|       0|1.777441999999E-4|   25.264|         23.010475|21.766060000000003| 20.43717|25.234945|23.856625|22.704135|21.364365|   26|       0.0|\n",
            "+----------+----------+----------+----------+----------+----------+----------+----------+----------+----------+------------------+------------------+----------+------------------+--------+--------+--------+--------+-----------------+---------+------------------+------------------+---------+---------+---------+---------+---------+-----+----------+\n",
            "only showing top 5 rows\n",
            "\n"
          ]
        }
      ]
    },
    {
      "cell_type": "code",
      "source": [
        "#from pyspark.ml.feature import VectorAssembler\n",
        "assembler = VectorAssembler(inputCols = ['modelMag_u', 'modelMag_g', 'modelMag_r', 'modelMag_i', 'modelMag_z', 'fiberMag_u', 'fiberMag_g', 'fiberMag_r', 'fiberMag_i', 'fiberMag_z', 'petroR50_r', 'petroR90_r', 'petroR50_z', 'petroR90_z', 'r', 'i', 'z', 'mmug', 'mmgr', 'mmri', 'mmiz', 'mfug', 'mfgr', 'mfri', 'mfiz', 'prediction'], outputCol = 'features2')"
      ],
      "metadata": {
        "id": "p7MnreW4BWYG"
      },
      "execution_count": null,
      "outputs": []
    },
    {
      "cell_type": "code",
      "source": [
        "output = assembler.transform(new_df)"
      ],
      "metadata": {
        "id": "irCpZm3tB5OB"
      },
      "execution_count": null,
      "outputs": []
    },
    {
      "cell_type": "code",
      "source": [
        "final_df = output.select('features2', 'redshift')\n",
        "final_df.show(3)"
      ],
      "metadata": {
        "colab": {
          "base_uri": "https://localhost:8080/"
        },
        "id": "w6pV4ehMB7DI",
        "outputId": "db239e12-9640-4b07-e6cb-0100c5cb34c4"
      },
      "execution_count": null,
      "outputs": [
        {
          "output_type": "stream",
          "name": "stdout",
          "text": [
            "+--------------------+--------+\n",
            "|           features2|redshift|\n",
            "+--------------------+--------+\n",
            "|[21.63269,21.2791...|       1|\n",
            "|[20.90748,21.2373...|       1|\n",
            "|[23.24831,21.2138...|       3|\n",
            "+--------------------+--------+\n",
            "only showing top 3 rows\n",
            "\n"
          ]
        }
      ]
    },
    {
      "cell_type": "code",
      "source": [
        "train, test = final_df.randomSplit([0.7, 0.3])"
      ],
      "metadata": {
        "id": "bbbiQH4OB8o1"
      },
      "execution_count": null,
      "outputs": []
    },
    {
      "cell_type": "code",
      "source": [
        "nb = NaiveBayes(labelCol=\"redshift\", featuresCol=\"features2\")"
      ],
      "metadata": {
        "id": "lyYAvoWFCSCd"
      },
      "execution_count": null,
      "outputs": []
    },
    {
      "cell_type": "code",
      "source": [
        "model = nb.fit(train)"
      ],
      "metadata": {
        "id": "RNsx0f5LCcZ4"
      },
      "execution_count": null,
      "outputs": []
    },
    {
      "cell_type": "code",
      "source": [
        "pred_test2 = model.transform(test)"
      ],
      "metadata": {
        "id": "tPjO_Ic9EU7e"
      },
      "execution_count": null,
      "outputs": []
    },
    {
      "cell_type": "code",
      "source": [
        "multi_evaluator = MulticlassClassificationEvaluator(labelCol = 'redshift', metricName = 'accuracy')\n",
        "print('Naive Bayes Accu:', multi_evaluator.evaluate(pred_test2))"
      ],
      "metadata": {
        "colab": {
          "base_uri": "https://localhost:8080/"
        },
        "id": "VaGQhYKLEfeh",
        "outputId": "c3aaaf97-d5db-4dee-c6f1-c30435596b12"
      },
      "execution_count": null,
      "outputs": [
        {
          "output_type": "stream",
          "name": "stdout",
          "text": [
            "Naive Bayes Accu: 0.7996573317477121\n"
          ]
        }
      ]
    },
    {
      "cell_type": "code",
      "source": [
        "print('test data (weightedPrecision): ', multi_evaluator.setMetricName('weightedPrecision').evaluate(pred_test2))\n",
        "print('test data (weightedRecall): ', multi_evaluator.setMetricName('weightedRecall').evaluate(pred_test2))"
      ],
      "metadata": {
        "colab": {
          "base_uri": "https://localhost:8080/"
        },
        "id": "K36pyh__nIxc",
        "outputId": "5ac917ce-6b92-4446-9022-86d487a3c3b0"
      },
      "execution_count": null,
      "outputs": [
        {
          "output_type": "stream",
          "name": "stdout",
          "text": [
            "test data (weightedPrecision):  0.823440150506004\n",
            "test data (weightedRecall):  0.7996573317477121\n"
          ]
        }
      ]
    }
  ]
}