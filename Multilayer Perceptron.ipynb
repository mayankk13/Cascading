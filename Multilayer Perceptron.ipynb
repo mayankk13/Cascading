{
  "nbformat": 4,
  "nbformat_minor": 0,
  "metadata": {
    "colab": {
      "name": "multilayer_perceptron_classification.ipynb",
      "provenance": [],
      "collapsed_sections": []
    },
    "kernelspec": {
      "name": "python3",
      "display_name": "Python 3"
    },
    "language_info": {
      "name": "python"
    }
  },
  "cells": [
    {
      "cell_type": "code",
      "execution_count": null,
      "metadata": {
        "colab": {
          "base_uri": "https://localhost:8080/"
        },
        "id": "Hm1BX_6QZ1S6",
        "outputId": "109f6f4a-1965-483c-a581-dd1b73aafbfc"
      },
      "outputs": [
        {
          "output_type": "stream",
          "name": "stdout",
          "text": [
            "Requirement already satisfied: pyspark in /usr/local/lib/python3.7/dist-packages (3.2.1)\n",
            "Requirement already satisfied: py4j==0.10.9.3 in /usr/local/lib/python3.7/dist-packages (from pyspark) (0.10.9.3)\n"
          ]
        }
      ],
      "source": [
        "!pip install pyspark"
      ]
    },
    {
      "cell_type": "code",
      "source": [
        "from pyspark.ml.classification import MultilayerPerceptronClassifier\n",
        "from pyspark.ml.evaluation import MulticlassClassificationEvaluator"
      ],
      "metadata": {
        "id": "yikfNY69bk-C"
      },
      "execution_count": null,
      "outputs": []
    },
    {
      "cell_type": "code",
      "source": [
        "from pyspark.sql import SparkSession\n",
        "\n",
        "spark = SparkSession.builder.appName('tree').getOrCreate()\n",
        "df = spark.read.csv('/content/drive/MyDrive/Datasets/Thesis/dr16.csv', inferSchema=True, header=True)\n",
        "df.printSchema()"
      ],
      "metadata": {
        "colab": {
          "base_uri": "https://localhost:8080/"
        },
        "id": "gbzw9LaCaTpm",
        "outputId": "53f90498-3ad3-494d-a5a8-28ffdbebd35e"
      },
      "execution_count": null,
      "outputs": [
        {
          "output_type": "stream",
          "name": "stdout",
          "text": [
            "root\n",
            " |-- _c0: integer (nullable = true)\n",
            " |-- objid: double (nullable = true)\n",
            " |-- modelMag_u: double (nullable = true)\n",
            " |-- modelMag_g: double (nullable = true)\n",
            " |-- modelMag_r: double (nullable = true)\n",
            " |-- modelMag_i: double (nullable = true)\n",
            " |-- modelMag_z: double (nullable = true)\n",
            " |-- fiberMag_u: double (nullable = true)\n",
            " |-- fiberMag_g: double (nullable = true)\n",
            " |-- fiberMag_r: double (nullable = true)\n",
            " |-- fiberMag_i: double (nullable = true)\n",
            " |-- fiberMag_z: double (nullable = true)\n",
            " |-- petroR50_r: double (nullable = true)\n",
            " |-- petroR90_r: double (nullable = true)\n",
            " |-- petroR50_z: double (nullable = true)\n",
            " |-- petroR90_z: double (nullable = true)\n",
            " |-- r: double (nullable = true)\n",
            " |-- i: double (nullable = true)\n",
            " |-- z: double (nullable = true)\n",
            " |-- redshift: double (nullable = true)\n",
            " |-- zerr: double (nullable = true)\n",
            " |-- mmug: double (nullable = true)\n",
            " |-- mmgr: double (nullable = true)\n",
            " |-- mmri: double (nullable = true)\n",
            " |-- mmiz: double (nullable = true)\n",
            " |-- mfug: double (nullable = true)\n",
            " |-- mfgr: double (nullable = true)\n",
            " |-- mfri: double (nullable = true)\n",
            " |-- mfiz: double (nullable = true)\n",
            "\n"
          ]
        }
      ]
    },
    {
      "cell_type": "code",
      "source": [
        "import pyspark.sql.functions as func\n",
        "df = df.withColumn(\"redshift\", func.round(df[\"redshift\"], 2).cast('integer'))"
      ],
      "metadata": {
        "id": "gsckzyB9asGy"
      },
      "execution_count": null,
      "outputs": []
    },
    {
      "cell_type": "code",
      "source": [
        "import pandas as pd\n",
        "pd.DataFrame(df.take(5), columns = df.columns).transpose()"
      ],
      "metadata": {
        "colab": {
          "base_uri": "https://localhost:8080/",
          "height": 959
        },
        "id": "QcfQMNLfbFq9",
        "outputId": "ae3ea702-e7fd-44b4-c17c-d24be260c789"
      },
      "execution_count": null,
      "outputs": [
        {
          "output_type": "execute_result",
          "data": {
            "text/html": [
              "\n",
              "  <div id=\"df-c87504d2-903e-4223-a356-1cbd81766494\">\n",
              "    <div class=\"colab-df-container\">\n",
              "      <div>\n",
              "<style scoped>\n",
              "    .dataframe tbody tr th:only-of-type {\n",
              "        vertical-align: middle;\n",
              "    }\n",
              "\n",
              "    .dataframe tbody tr th {\n",
              "        vertical-align: top;\n",
              "    }\n",
              "\n",
              "    .dataframe thead th {\n",
              "        text-align: right;\n",
              "    }\n",
              "</style>\n",
              "<table border=\"1\" class=\"dataframe\">\n",
              "  <thead>\n",
              "    <tr style=\"text-align: right;\">\n",
              "      <th></th>\n",
              "      <th>0</th>\n",
              "      <th>1</th>\n",
              "      <th>2</th>\n",
              "      <th>3</th>\n",
              "      <th>4</th>\n",
              "    </tr>\n",
              "  </thead>\n",
              "  <tbody>\n",
              "    <tr>\n",
              "      <th>_c0</th>\n",
              "      <td>0.000000e+00</td>\n",
              "      <td>1.000000e+00</td>\n",
              "      <td>2.000000e+00</td>\n",
              "      <td>3.000000e+00</td>\n",
              "      <td>4.000000e+00</td>\n",
              "    </tr>\n",
              "    <tr>\n",
              "      <th>objid</th>\n",
              "      <td>1.237680e+18</td>\n",
              "      <td>1.237680e+18</td>\n",
              "      <td>1.237680e+18</td>\n",
              "      <td>1.237680e+18</td>\n",
              "      <td>1.237680e+18</td>\n",
              "    </tr>\n",
              "    <tr>\n",
              "      <th>modelMag_u</th>\n",
              "      <td>2.163269e+01</td>\n",
              "      <td>1.974829e+01</td>\n",
              "      <td>2.374654e+01</td>\n",
              "      <td>2.063075e+01</td>\n",
              "      <td>2.138126e+01</td>\n",
              "    </tr>\n",
              "    <tr>\n",
              "      <th>modelMag_g</th>\n",
              "      <td>2.127911e+01</td>\n",
              "      <td>1.945819e+01</td>\n",
              "      <td>2.319651e+01</td>\n",
              "      <td>2.025426e+01</td>\n",
              "      <td>2.113488e+01</td>\n",
              "    </tr>\n",
              "    <tr>\n",
              "      <th>modelMag_r</th>\n",
              "      <td>2.122550e+01</td>\n",
              "      <td>1.933118e+01</td>\n",
              "      <td>2.201303e+01</td>\n",
              "      <td>2.004478e+01</td>\n",
              "      <td>2.109993e+01</td>\n",
              "    </tr>\n",
              "    <tr>\n",
              "      <th>modelMag_i</th>\n",
              "      <td>2.095690e+01</td>\n",
              "      <td>1.901371e+01</td>\n",
              "      <td>2.080744e+01</td>\n",
              "      <td>1.979378e+01</td>\n",
              "      <td>2.092882e+01</td>\n",
              "    </tr>\n",
              "    <tr>\n",
              "      <th>modelMag_z</th>\n",
              "      <td>2.082752e+01</td>\n",
              "      <td>1.880369e+01</td>\n",
              "      <td>1.991660e+01</td>\n",
              "      <td>1.970326e+01</td>\n",
              "      <td>2.080634e+01</td>\n",
              "    </tr>\n",
              "    <tr>\n",
              "      <th>fiberMag_u</th>\n",
              "      <td>2.205036e+01</td>\n",
              "      <td>2.010190e+01</td>\n",
              "      <td>2.460136e+01</td>\n",
              "      <td>2.099431e+01</td>\n",
              "      <td>2.185225e+01</td>\n",
              "    </tr>\n",
              "    <tr>\n",
              "      <th>fiberMag_g</th>\n",
              "      <td>2.162439e+01</td>\n",
              "      <td>1.979539e+01</td>\n",
              "      <td>2.364122e+01</td>\n",
              "      <td>2.060174e+01</td>\n",
              "      <td>2.145860e+01</td>\n",
              "    </tr>\n",
              "    <tr>\n",
              "      <th>fiberMag_r</th>\n",
              "      <td>2.164663e+01</td>\n",
              "      <td>1.966580e+01</td>\n",
              "      <td>2.248040e+01</td>\n",
              "      <td>2.040031e+01</td>\n",
              "      <td>2.145340e+01</td>\n",
              "    </tr>\n",
              "    <tr>\n",
              "      <th>fiberMag_i</th>\n",
              "      <td>2.132027e+01</td>\n",
              "      <td>1.935386e+01</td>\n",
              "      <td>2.131004e+01</td>\n",
              "      <td>2.019795e+01</td>\n",
              "      <td>2.119782e+01</td>\n",
              "    </tr>\n",
              "    <tr>\n",
              "      <th>fiberMag_z</th>\n",
              "      <td>2.140336e+01</td>\n",
              "      <td>1.915471e+01</td>\n",
              "      <td>2.034262e+01</td>\n",
              "      <td>1.995800e+01</td>\n",
              "      <td>2.063075e+01</td>\n",
              "    </tr>\n",
              "    <tr>\n",
              "      <th>petroR50_r</th>\n",
              "      <td>5.628045e-01</td>\n",
              "      <td>6.310041e-01</td>\n",
              "      <td>6.455957e-01</td>\n",
              "      <td>6.577960e-01</td>\n",
              "      <td>7.288965e-01</td>\n",
              "    </tr>\n",
              "    <tr>\n",
              "      <th>petroR90_r</th>\n",
              "      <td>1.068754e+00</td>\n",
              "      <td>1.339584e+00</td>\n",
              "      <td>1.295767e+00</td>\n",
              "      <td>1.482055e+00</td>\n",
              "      <td>2.212801e+00</td>\n",
              "    </tr>\n",
              "    <tr>\n",
              "      <th>petroR50_z</th>\n",
              "      <td>1.665651e-01</td>\n",
              "      <td>6.024787e-01</td>\n",
              "      <td>9.235029e-01</td>\n",
              "      <td>7.643448e-01</td>\n",
              "      <td>1.027675e+00</td>\n",
              "    </tr>\n",
              "    <tr>\n",
              "      <th>petroR90_z</th>\n",
              "      <td>2.384792e-01</td>\n",
              "      <td>1.350725e+00</td>\n",
              "      <td>2.043880e+00</td>\n",
              "      <td>1.480650e+00</td>\n",
              "      <td>1.458456e+00</td>\n",
              "    </tr>\n",
              "    <tr>\n",
              "      <th>r</th>\n",
              "      <td>2.122550e+01</td>\n",
              "      <td>1.933118e+01</td>\n",
              "      <td>2.201303e+01</td>\n",
              "      <td>2.004478e+01</td>\n",
              "      <td>2.109993e+01</td>\n",
              "    </tr>\n",
              "    <tr>\n",
              "      <th>i</th>\n",
              "      <td>2.095690e+01</td>\n",
              "      <td>1.901371e+01</td>\n",
              "      <td>2.080744e+01</td>\n",
              "      <td>1.979378e+01</td>\n",
              "      <td>2.092882e+01</td>\n",
              "    </tr>\n",
              "    <tr>\n",
              "      <th>z</th>\n",
              "      <td>2.082752e+01</td>\n",
              "      <td>1.880369e+01</td>\n",
              "      <td>1.991660e+01</td>\n",
              "      <td>1.970326e+01</td>\n",
              "      <td>2.080634e+01</td>\n",
              "    </tr>\n",
              "    <tr>\n",
              "      <th>redshift</th>\n",
              "      <td>1.000000e+00</td>\n",
              "      <td>2.000000e+00</td>\n",
              "      <td>0.000000e+00</td>\n",
              "      <td>1.000000e+00</td>\n",
              "      <td>1.000000e+00</td>\n",
              "    </tr>\n",
              "    <tr>\n",
              "      <th>zerr</th>\n",
              "      <td>1.145960e-03</td>\n",
              "      <td>3.538734e-04</td>\n",
              "      <td>2.123906e-04</td>\n",
              "      <td>3.944229e-04</td>\n",
              "      <td>7.600512e-04</td>\n",
              "    </tr>\n",
              "    <tr>\n",
              "      <th>mmug</th>\n",
              "      <td>2.145590e+01</td>\n",
              "      <td>1.960324e+01</td>\n",
              "      <td>2.347152e+01</td>\n",
              "      <td>2.044251e+01</td>\n",
              "      <td>2.125807e+01</td>\n",
              "    </tr>\n",
              "    <tr>\n",
              "      <th>mmgr</th>\n",
              "      <td>2.125230e+01</td>\n",
              "      <td>1.939468e+01</td>\n",
              "      <td>2.260477e+01</td>\n",
              "      <td>2.014952e+01</td>\n",
              "      <td>2.111741e+01</td>\n",
              "    </tr>\n",
              "    <tr>\n",
              "      <th>mmri</th>\n",
              "      <td>2.109120e+01</td>\n",
              "      <td>1.917244e+01</td>\n",
              "      <td>2.141024e+01</td>\n",
              "      <td>1.991928e+01</td>\n",
              "      <td>2.101438e+01</td>\n",
              "    </tr>\n",
              "    <tr>\n",
              "      <th>mmiz</th>\n",
              "      <td>2.089221e+01</td>\n",
              "      <td>1.890870e+01</td>\n",
              "      <td>2.036202e+01</td>\n",
              "      <td>1.974852e+01</td>\n",
              "      <td>2.086758e+01</td>\n",
              "    </tr>\n",
              "    <tr>\n",
              "      <th>mfug</th>\n",
              "      <td>2.183738e+01</td>\n",
              "      <td>1.994864e+01</td>\n",
              "      <td>2.412129e+01</td>\n",
              "      <td>2.079803e+01</td>\n",
              "      <td>2.165543e+01</td>\n",
              "    </tr>\n",
              "    <tr>\n",
              "      <th>mfgr</th>\n",
              "      <td>2.163551e+01</td>\n",
              "      <td>1.973060e+01</td>\n",
              "      <td>2.306081e+01</td>\n",
              "      <td>2.050102e+01</td>\n",
              "      <td>2.145600e+01</td>\n",
              "    </tr>\n",
              "    <tr>\n",
              "      <th>mfri</th>\n",
              "      <td>2.148345e+01</td>\n",
              "      <td>1.950983e+01</td>\n",
              "      <td>2.189522e+01</td>\n",
              "      <td>2.029913e+01</td>\n",
              "      <td>2.132561e+01</td>\n",
              "    </tr>\n",
              "    <tr>\n",
              "      <th>mfiz</th>\n",
              "      <td>2.136181e+01</td>\n",
              "      <td>1.925429e+01</td>\n",
              "      <td>2.082633e+01</td>\n",
              "      <td>2.007797e+01</td>\n",
              "      <td>2.091428e+01</td>\n",
              "    </tr>\n",
              "  </tbody>\n",
              "</table>\n",
              "</div>\n",
              "      <button class=\"colab-df-convert\" onclick=\"convertToInteractive('df-c87504d2-903e-4223-a356-1cbd81766494')\"\n",
              "              title=\"Convert this dataframe to an interactive table.\"\n",
              "              style=\"display:none;\">\n",
              "        \n",
              "  <svg xmlns=\"http://www.w3.org/2000/svg\" height=\"24px\"viewBox=\"0 0 24 24\"\n",
              "       width=\"24px\">\n",
              "    <path d=\"M0 0h24v24H0V0z\" fill=\"none\"/>\n",
              "    <path d=\"M18.56 5.44l.94 2.06.94-2.06 2.06-.94-2.06-.94-.94-2.06-.94 2.06-2.06.94zm-11 1L8.5 8.5l.94-2.06 2.06-.94-2.06-.94L8.5 2.5l-.94 2.06-2.06.94zm10 10l.94 2.06.94-2.06 2.06-.94-2.06-.94-.94-2.06-.94 2.06-2.06.94z\"/><path d=\"M17.41 7.96l-1.37-1.37c-.4-.4-.92-.59-1.43-.59-.52 0-1.04.2-1.43.59L10.3 9.45l-7.72 7.72c-.78.78-.78 2.05 0 2.83L4 21.41c.39.39.9.59 1.41.59.51 0 1.02-.2 1.41-.59l7.78-7.78 2.81-2.81c.8-.78.8-2.07 0-2.86zM5.41 20L4 18.59l7.72-7.72 1.47 1.35L5.41 20z\"/>\n",
              "  </svg>\n",
              "      </button>\n",
              "      \n",
              "  <style>\n",
              "    .colab-df-container {\n",
              "      display:flex;\n",
              "      flex-wrap:wrap;\n",
              "      gap: 12px;\n",
              "    }\n",
              "\n",
              "    .colab-df-convert {\n",
              "      background-color: #E8F0FE;\n",
              "      border: none;\n",
              "      border-radius: 50%;\n",
              "      cursor: pointer;\n",
              "      display: none;\n",
              "      fill: #1967D2;\n",
              "      height: 32px;\n",
              "      padding: 0 0 0 0;\n",
              "      width: 32px;\n",
              "    }\n",
              "\n",
              "    .colab-df-convert:hover {\n",
              "      background-color: #E2EBFA;\n",
              "      box-shadow: 0px 1px 2px rgba(60, 64, 67, 0.3), 0px 1px 3px 1px rgba(60, 64, 67, 0.15);\n",
              "      fill: #174EA6;\n",
              "    }\n",
              "\n",
              "    [theme=dark] .colab-df-convert {\n",
              "      background-color: #3B4455;\n",
              "      fill: #D2E3FC;\n",
              "    }\n",
              "\n",
              "    [theme=dark] .colab-df-convert:hover {\n",
              "      background-color: #434B5C;\n",
              "      box-shadow: 0px 1px 3px 1px rgba(0, 0, 0, 0.15);\n",
              "      filter: drop-shadow(0px 1px 2px rgba(0, 0, 0, 0.3));\n",
              "      fill: #FFFFFF;\n",
              "    }\n",
              "  </style>\n",
              "\n",
              "      <script>\n",
              "        const buttonEl =\n",
              "          document.querySelector('#df-c87504d2-903e-4223-a356-1cbd81766494 button.colab-df-convert');\n",
              "        buttonEl.style.display =\n",
              "          google.colab.kernel.accessAllowed ? 'block' : 'none';\n",
              "\n",
              "        async function convertToInteractive(key) {\n",
              "          const element = document.querySelector('#df-c87504d2-903e-4223-a356-1cbd81766494');\n",
              "          const dataTable =\n",
              "            await google.colab.kernel.invokeFunction('convertToInteractive',\n",
              "                                                     [key], {});\n",
              "          if (!dataTable) return;\n",
              "\n",
              "          const docLinkHtml = 'Like what you see? Visit the ' +\n",
              "            '<a target=\"_blank\" href=https://colab.research.google.com/notebooks/data_table.ipynb>data table notebook</a>'\n",
              "            + ' to learn more about interactive tables.';\n",
              "          element.innerHTML = '';\n",
              "          dataTable['output_type'] = 'display_data';\n",
              "          await google.colab.output.renderOutput(dataTable, element);\n",
              "          const docLink = document.createElement('div');\n",
              "          docLink.innerHTML = docLinkHtml;\n",
              "          element.appendChild(docLink);\n",
              "        }\n",
              "      </script>\n",
              "    </div>\n",
              "  </div>\n",
              "  "
            ],
            "text/plain": [
              "                       0             1  ...             3             4\n",
              "_c0         0.000000e+00  1.000000e+00  ...  3.000000e+00  4.000000e+00\n",
              "objid       1.237680e+18  1.237680e+18  ...  1.237680e+18  1.237680e+18\n",
              "modelMag_u  2.163269e+01  1.974829e+01  ...  2.063075e+01  2.138126e+01\n",
              "modelMag_g  2.127911e+01  1.945819e+01  ...  2.025426e+01  2.113488e+01\n",
              "modelMag_r  2.122550e+01  1.933118e+01  ...  2.004478e+01  2.109993e+01\n",
              "modelMag_i  2.095690e+01  1.901371e+01  ...  1.979378e+01  2.092882e+01\n",
              "modelMag_z  2.082752e+01  1.880369e+01  ...  1.970326e+01  2.080634e+01\n",
              "fiberMag_u  2.205036e+01  2.010190e+01  ...  2.099431e+01  2.185225e+01\n",
              "fiberMag_g  2.162439e+01  1.979539e+01  ...  2.060174e+01  2.145860e+01\n",
              "fiberMag_r  2.164663e+01  1.966580e+01  ...  2.040031e+01  2.145340e+01\n",
              "fiberMag_i  2.132027e+01  1.935386e+01  ...  2.019795e+01  2.119782e+01\n",
              "fiberMag_z  2.140336e+01  1.915471e+01  ...  1.995800e+01  2.063075e+01\n",
              "petroR50_r  5.628045e-01  6.310041e-01  ...  6.577960e-01  7.288965e-01\n",
              "petroR90_r  1.068754e+00  1.339584e+00  ...  1.482055e+00  2.212801e+00\n",
              "petroR50_z  1.665651e-01  6.024787e-01  ...  7.643448e-01  1.027675e+00\n",
              "petroR90_z  2.384792e-01  1.350725e+00  ...  1.480650e+00  1.458456e+00\n",
              "r           2.122550e+01  1.933118e+01  ...  2.004478e+01  2.109993e+01\n",
              "i           2.095690e+01  1.901371e+01  ...  1.979378e+01  2.092882e+01\n",
              "z           2.082752e+01  1.880369e+01  ...  1.970326e+01  2.080634e+01\n",
              "redshift    1.000000e+00  2.000000e+00  ...  1.000000e+00  1.000000e+00\n",
              "zerr        1.145960e-03  3.538734e-04  ...  3.944229e-04  7.600512e-04\n",
              "mmug        2.145590e+01  1.960324e+01  ...  2.044251e+01  2.125807e+01\n",
              "mmgr        2.125230e+01  1.939468e+01  ...  2.014952e+01  2.111741e+01\n",
              "mmri        2.109120e+01  1.917244e+01  ...  1.991928e+01  2.101438e+01\n",
              "mmiz        2.089221e+01  1.890870e+01  ...  1.974852e+01  2.086758e+01\n",
              "mfug        2.183738e+01  1.994864e+01  ...  2.079803e+01  2.165543e+01\n",
              "mfgr        2.163551e+01  1.973060e+01  ...  2.050102e+01  2.145600e+01\n",
              "mfri        2.148345e+01  1.950983e+01  ...  2.029913e+01  2.132561e+01\n",
              "mfiz        2.136181e+01  1.925429e+01  ...  2.007797e+01  2.091428e+01\n",
              "\n",
              "[29 rows x 5 columns]"
            ]
          },
          "metadata": {},
          "execution_count": 5
        }
      ]
    },
    {
      "cell_type": "code",
      "source": [
        "df.columns"
      ],
      "metadata": {
        "colab": {
          "base_uri": "https://localhost:8080/"
        },
        "id": "EGgY23e2bJR5",
        "outputId": "0271a608-8596-46f1-f2cf-14e6fa9f1522"
      },
      "execution_count": null,
      "outputs": [
        {
          "output_type": "execute_result",
          "data": {
            "text/plain": [
              "['_c0',\n",
              " 'objid',\n",
              " 'modelMag_u',\n",
              " 'modelMag_g',\n",
              " 'modelMag_r',\n",
              " 'modelMag_i',\n",
              " 'modelMag_z',\n",
              " 'fiberMag_u',\n",
              " 'fiberMag_g',\n",
              " 'fiberMag_r',\n",
              " 'fiberMag_i',\n",
              " 'fiberMag_z',\n",
              " 'petroR50_r',\n",
              " 'petroR90_r',\n",
              " 'petroR50_z',\n",
              " 'petroR90_z',\n",
              " 'r',\n",
              " 'i',\n",
              " 'z',\n",
              " 'redshift',\n",
              " 'zerr',\n",
              " 'mmug',\n",
              " 'mmgr',\n",
              " 'mmri',\n",
              " 'mmiz',\n",
              " 'mfug',\n",
              " 'mfgr',\n",
              " 'mfri',\n",
              " 'mfiz']"
            ]
          },
          "metadata": {},
          "execution_count": 6
        }
      ]
    },
    {
      "cell_type": "code",
      "source": [
        "df.show(5)"
      ],
      "metadata": {
        "colab": {
          "base_uri": "https://localhost:8080/"
        },
        "id": "xVWKihPzbLhc",
        "outputId": "b5e2b2c6-dd7d-416c-a10a-72f9219f18c9"
      },
      "execution_count": null,
      "outputs": [
        {
          "output_type": "stream",
          "name": "stdout",
          "text": [
            "+---+--------------------+----------+----------+----------+----------+----------+----------+----------+----------+----------+----------+------------------+----------+------------------+----------+--------+--------+--------+--------+-----------------+---------+------------------+---------+--------+------------------+---------+--------+------------------+\n",
            "|_c0|               objid|modelMag_u|modelMag_g|modelMag_r|modelMag_i|modelMag_z|fiberMag_u|fiberMag_g|fiberMag_r|fiberMag_i|fiberMag_z|        petroR50_r|petroR90_r|        petroR50_z|petroR90_z|       r|       i|       z|redshift|             zerr|     mmug|              mmgr|     mmri|    mmiz|              mfug|     mfgr|    mfri|              mfiz|\n",
            "+---+--------------------+----------+----------+----------+----------+----------+----------+----------+----------+----------+----------+------------------+----------+------------------+----------+--------+--------+--------+--------+-----------------+---------+------------------+---------+--------+------------------+---------+--------+------------------+\n",
            "|  0|1.237680245739487...|  21.63269|  21.27911|   21.2255|   20.9569|  20.82752|  22.05036|  21.62439|  21.64663|  21.32027|  21.40336|         0.5628045|  1.068754|         0.1665651| 0.2384792| 21.2255| 20.9569|20.82752|       1|       0.00114596|  21.4559|         21.252305|  21.0912|20.89221|         21.837375| 21.63551|21.48345|         21.361815|\n",
            "|  1|1.237680245739487...|  19.74829|  19.45819|  19.33118|  19.01371|  18.80369|   20.1019|  19.79539|   19.6658|  19.35386|  19.15471|0.6310041000000001|  1.339584|0.6024786999999999|  1.350725|19.33118|19.01371|18.80369|       2|3.538733999999E-4| 19.60324|         19.394685|19.172445| 18.9087|         19.948645|19.730595|19.50983|19.254285000000003|\n",
            "|  2|1.237680245739422...|  23.74654|  23.19651|  22.01303|  20.80744|   19.9166|  24.60136|  23.64122|   22.4804|  21.31004|  20.34262|         0.6455957|  1.295767|         0.9235029|   2.04388|22.01303|20.80744| 19.9166|       0|      2.123906E-4|23.471525|          22.60477|21.410235|20.36202|          24.12129| 23.06081|21.89522|          20.82633|\n",
            "|  3|1.237680245739422...|  20.63075|  20.25426|  20.04478|  19.79378|  19.70326|  20.99431|  20.60174|  20.40031|  20.19795|    19.958|          0.657796|  1.482055|         0.7643448|   1.48065|20.04478|19.79378|19.70326|       1|      3.944229E-4|20.442505|20.149520000000003| 19.91928|19.74852|20.798025000000003|20.501025|20.29913|         20.077975|\n",
            "|  4|1.237680245739356...|  21.38126|  21.13488|  21.09993|  20.92882|  20.80634|  21.85225|   21.4586|   21.4534|  21.19782|  20.63075|0.7288965000000001|  2.212801|          1.027675|  1.458456|21.09993|20.92882|20.80634|       1|7.600511999999E-4| 21.25807|         21.117405|21.014375|20.86758|         21.655425|   21.456|21.32561|         20.914285|\n",
            "+---+--------------------+----------+----------+----------+----------+----------+----------+----------+----------+----------+----------+------------------+----------+------------------+----------+--------+--------+--------+--------+-----------------+---------+------------------+---------+--------+------------------+---------+--------+------------------+\n",
            "only showing top 5 rows\n",
            "\n"
          ]
        }
      ]
    },
    {
      "cell_type": "code",
      "source": [
        "df = df.drop('objid', '_c0', 'zerr')\n",
        "df.show(5)"
      ],
      "metadata": {
        "colab": {
          "base_uri": "https://localhost:8080/"
        },
        "id": "wq-PYjEPbOi2",
        "outputId": "fe6bdd98-77b6-4f39-c5b3-a195db21a405"
      },
      "execution_count": null,
      "outputs": [
        {
          "output_type": "stream",
          "name": "stdout",
          "text": [
            "+----------+----------+----------+----------+----------+----------+----------+----------+----------+----------+------------------+----------+------------------+----------+--------+--------+--------+--------+---------+------------------+---------+--------+------------------+---------+--------+------------------+\n",
            "|modelMag_u|modelMag_g|modelMag_r|modelMag_i|modelMag_z|fiberMag_u|fiberMag_g|fiberMag_r|fiberMag_i|fiberMag_z|        petroR50_r|petroR90_r|        petroR50_z|petroR90_z|       r|       i|       z|redshift|     mmug|              mmgr|     mmri|    mmiz|              mfug|     mfgr|    mfri|              mfiz|\n",
            "+----------+----------+----------+----------+----------+----------+----------+----------+----------+----------+------------------+----------+------------------+----------+--------+--------+--------+--------+---------+------------------+---------+--------+------------------+---------+--------+------------------+\n",
            "|  21.63269|  21.27911|   21.2255|   20.9569|  20.82752|  22.05036|  21.62439|  21.64663|  21.32027|  21.40336|         0.5628045|  1.068754|         0.1665651| 0.2384792| 21.2255| 20.9569|20.82752|       1|  21.4559|         21.252305|  21.0912|20.89221|         21.837375| 21.63551|21.48345|         21.361815|\n",
            "|  19.74829|  19.45819|  19.33118|  19.01371|  18.80369|   20.1019|  19.79539|   19.6658|  19.35386|  19.15471|0.6310041000000001|  1.339584|0.6024786999999999|  1.350725|19.33118|19.01371|18.80369|       2| 19.60324|         19.394685|19.172445| 18.9087|         19.948645|19.730595|19.50983|19.254285000000003|\n",
            "|  23.74654|  23.19651|  22.01303|  20.80744|   19.9166|  24.60136|  23.64122|   22.4804|  21.31004|  20.34262|         0.6455957|  1.295767|         0.9235029|   2.04388|22.01303|20.80744| 19.9166|       0|23.471525|          22.60477|21.410235|20.36202|          24.12129| 23.06081|21.89522|          20.82633|\n",
            "|  20.63075|  20.25426|  20.04478|  19.79378|  19.70326|  20.99431|  20.60174|  20.40031|  20.19795|    19.958|          0.657796|  1.482055|         0.7643448|   1.48065|20.04478|19.79378|19.70326|       1|20.442505|20.149520000000003| 19.91928|19.74852|20.798025000000003|20.501025|20.29913|         20.077975|\n",
            "|  21.38126|  21.13488|  21.09993|  20.92882|  20.80634|  21.85225|   21.4586|   21.4534|  21.19782|  20.63075|0.7288965000000001|  2.212801|          1.027675|  1.458456|21.09993|20.92882|20.80634|       1| 21.25807|         21.117405|21.014375|20.86758|         21.655425|   21.456|21.32561|         20.914285|\n",
            "+----------+----------+----------+----------+----------+----------+----------+----------+----------+----------+------------------+----------+------------------+----------+--------+--------+--------+--------+---------+------------------+---------+--------+------------------+---------+--------+------------------+\n",
            "only showing top 5 rows\n",
            "\n"
          ]
        }
      ]
    },
    {
      "cell_type": "code",
      "source": [
        "#from pyspark.sql.functions import monotonically_increasing_id\n",
        "#df = df.withColumn(\"objid\", monotonically_increasing_id())\n",
        "#df.show(5)"
      ],
      "metadata": {
        "id": "33m86c9qbTOK"
      },
      "execution_count": null,
      "outputs": []
    },
    {
      "cell_type": "code",
      "source": [
        "from pyspark.ml.feature import VectorAssembler\n",
        "\n",
        "assembler = VectorAssembler(inputCols = ['modelMag_u', 'modelMag_g', 'modelMag_r', 'modelMag_i', 'modelMag_z', 'fiberMag_u', 'fiberMag_g', 'fiberMag_r', 'fiberMag_i', 'fiberMag_z', 'petroR50_r', 'petroR90_r', 'petroR50_z', 'petroR90_z', 'r', 'i', 'z', 'mmug', 'mmgr', 'mmri', 'mmiz', 'mfug', 'mfgr', 'mfri', 'mfiz'], outputCol = 'features')"
      ],
      "metadata": {
        "id": "tNgVuXFBbeOG"
      },
      "execution_count": null,
      "outputs": []
    },
    {
      "cell_type": "code",
      "source": [
        "output = assembler.transform(df)"
      ],
      "metadata": {
        "id": "uClcF4a8fTwn"
      },
      "execution_count": null,
      "outputs": []
    },
    {
      "cell_type": "code",
      "source": [
        "final_df = output.select('features', 'redshift')\n",
        "final_df.show(3)"
      ],
      "metadata": {
        "colab": {
          "base_uri": "https://localhost:8080/"
        },
        "id": "6ZhBitplfU-O",
        "outputId": "e00e2f8d-d2e5-48d2-bc75-5fbd1200407c"
      },
      "execution_count": null,
      "outputs": [
        {
          "output_type": "stream",
          "name": "stdout",
          "text": [
            "+--------------------+--------+\n",
            "|            features|redshift|\n",
            "+--------------------+--------+\n",
            "|[21.63269,21.2791...|       1|\n",
            "|[19.74829,19.4581...|       2|\n",
            "|[23.74654,23.1965...|       0|\n",
            "+--------------------+--------+\n",
            "only showing top 3 rows\n",
            "\n"
          ]
        }
      ]
    },
    {
      "cell_type": "code",
      "source": [
        "train, test = final_df.randomSplit([0.7, 0.3])"
      ],
      "metadata": {
        "id": "USVMYYQY8L13"
      },
      "execution_count": null,
      "outputs": []
    },
    {
      "cell_type": "code",
      "source": [
        "layers = [25, 24, 24, 8]"
      ],
      "metadata": {
        "id": "oUXv7eOZbne2"
      },
      "execution_count": null,
      "outputs": []
    },
    {
      "cell_type": "code",
      "source": [
        "#trainer = MultilayerPerceptronClassifier(maxIter=100, layers=layers, blockSize=128, seed=1234)\n",
        "classifier = MultilayerPerceptronClassifier(labelCol='redshift', featuresCol='features', maxIter=100, layers=layers, blockSize=128, seed=1234)\n"
      ],
      "metadata": {
        "id": "je1bvF7TbOeu"
      },
      "execution_count": null,
      "outputs": []
    },
    {
      "cell_type": "code",
      "source": [
        "start_time = time.time()\n",
        "model = classifier.fit(train)\n",
        "print(\"%s seconds\" % (time.time() - start_time))"
      ],
      "metadata": {
        "id": "5ATzaa0-bzWl"
      },
      "execution_count": null,
      "outputs": []
    },
    {
      "cell_type": "code",
      "source": [
        "result = model.transform(test)"
      ],
      "metadata": {
        "id": "eIhq4Bazfht5"
      },
      "execution_count": null,
      "outputs": []
    },
    {
      "cell_type": "code",
      "source": [
        "from pyspark.ml.evaluation import MulticlassClassificationEvaluator\n",
        "\n",
        "multi_evaluator = MulticlassClassificationEvaluator(labelCol = 'redshift', metricName = 'accuracy')\n",
        "print('Random Forest Accu:', multi_evaluator.evaluate(result))"
      ],
      "metadata": {
        "colab": {
          "base_uri": "https://localhost:8080/"
        },
        "id": "4Zk_NwN2oB2p",
        "outputId": "344978e8-192d-4122-f552-bde9985b4150"
      },
      "execution_count": null,
      "outputs": [
        {
          "output_type": "stream",
          "name": "stdout",
          "text": [
            "Random Forest Accu: 0.8539784435309296\n"
          ]
        }
      ]
    },
    {
      "cell_type": "code",
      "source": [
        "precision_evaluator = MulticlassClassificationEvaluator(labelCol = 'redshift', metricName = 'weightedPrecision')\n",
        "print('Random Forest Accu:', precision_evaluator.evaluate(result))"
      ],
      "metadata": {
        "colab": {
          "base_uri": "https://localhost:8080/"
        },
        "id": "FHfix8_-MT4H",
        "outputId": "b9851bf7-da57-4dea-c343-92f666d78ce4"
      },
      "execution_count": null,
      "outputs": [
        {
          "output_type": "stream",
          "name": "stdout",
          "text": [
            "Random Forest Accu: 0.8258246521231389\n"
          ]
        }
      ]
    },
    {
      "cell_type": "code",
      "source": [
        "print('test data (weightedPrecision): ', multi_evaluator.setMetricName('weightedPrecision').evaluate(result))"
      ],
      "metadata": {
        "colab": {
          "base_uri": "https://localhost:8080/"
        },
        "id": "MNpiI3EfKFts",
        "outputId": "2fe1be84-7898-4685-ed41-00740147dabd"
      },
      "execution_count": null,
      "outputs": [
        {
          "output_type": "stream",
          "name": "stdout",
          "text": [
            "test data (weightedPrecision):  0.8258246521231389\n"
          ]
        }
      ]
    },
    {
      "cell_type": "code",
      "source": [
        "print('test data (weightedRecall): ', multi_evaluator.setMetricName('weightedRecall').evaluate(result))"
      ],
      "metadata": {
        "colab": {
          "base_uri": "https://localhost:8080/"
        },
        "id": "dCeJwd6wKVz2",
        "outputId": "51edbca0-ed37-48df-a3be-f1b78d038437"
      },
      "execution_count": null,
      "outputs": [
        {
          "output_type": "stream",
          "name": "stdout",
          "text": [
            "test data (weightedRecall):  0.8539784435309297\n"
          ]
        }
      ]
    },
    {
      "cell_type": "markdown",
      "source": [
        "#Cascading"
      ],
      "metadata": {
        "id": "TxTkvJllNFSk"
      }
    },
    {
      "cell_type": "code",
      "source": [
        "result2 = model.transform(final_df)"
      ],
      "metadata": {
        "id": "drbSDobwM96J"
      },
      "execution_count": null,
      "outputs": []
    },
    {
      "cell_type": "code",
      "source": [
        "result2.show(3)"
      ],
      "metadata": {
        "colab": {
          "base_uri": "https://localhost:8080/"
        },
        "id": "j1otpdNr-RAO",
        "outputId": "cf056e77-1730-4edd-a6d7-b33a13ba8a15"
      },
      "execution_count": null,
      "outputs": [
        {
          "output_type": "stream",
          "name": "stdout",
          "text": [
            "+--------------------+--------+--------------------+--------------------+----------+\n",
            "|            features|redshift|       rawPrediction|         probability|prediction|\n",
            "+--------------------+--------+--------------------+--------------------+----------+\n",
            "|[21.63269,21.2791...|       1|[1.57716458308749...|[0.17029967441546...|       1.0|\n",
            "|[19.74829,19.4581...|       2|[1.94432037178717...|[0.25368640497025...|       1.0|\n",
            "|[23.74654,23.1965...|       0|[5.08391356729749...|[0.94851365831968...|       0.0|\n",
            "+--------------------+--------+--------------------+--------------------+----------+\n",
            "only showing top 3 rows\n",
            "\n"
          ]
        }
      ]
    },
    {
      "cell_type": "code",
      "source": [
        "from pyspark.sql.functions import monotonically_increasing_id\n",
        "df = df.withColumn(\"objid\", monotonically_increasing_id())\n",
        "df.show(5)"
      ],
      "metadata": {
        "colab": {
          "base_uri": "https://localhost:8080/"
        },
        "id": "LEhz8Xct-cgK",
        "outputId": "acdc5c0c-fca1-45d8-c1bf-9d6354d5ba1d"
      },
      "execution_count": null,
      "outputs": [
        {
          "output_type": "stream",
          "name": "stdout",
          "text": [
            "+----------+----------+----------+----------+----------+----------+----------+----------+----------+----------+------------------+----------+------------------+----------+--------+--------+--------+--------+---------+------------------+---------+--------+------------------+---------+--------+------------------+-----+\n",
            "|modelMag_u|modelMag_g|modelMag_r|modelMag_i|modelMag_z|fiberMag_u|fiberMag_g|fiberMag_r|fiberMag_i|fiberMag_z|        petroR50_r|petroR90_r|        petroR50_z|petroR90_z|       r|       i|       z|redshift|     mmug|              mmgr|     mmri|    mmiz|              mfug|     mfgr|    mfri|              mfiz|objid|\n",
            "+----------+----------+----------+----------+----------+----------+----------+----------+----------+----------+------------------+----------+------------------+----------+--------+--------+--------+--------+---------+------------------+---------+--------+------------------+---------+--------+------------------+-----+\n",
            "|  21.63269|  21.27911|   21.2255|   20.9569|  20.82752|  22.05036|  21.62439|  21.64663|  21.32027|  21.40336|         0.5628045|  1.068754|         0.1665651| 0.2384792| 21.2255| 20.9569|20.82752|       1|  21.4559|         21.252305|  21.0912|20.89221|         21.837375| 21.63551|21.48345|         21.361815|    0|\n",
            "|  19.74829|  19.45819|  19.33118|  19.01371|  18.80369|   20.1019|  19.79539|   19.6658|  19.35386|  19.15471|0.6310041000000001|  1.339584|0.6024786999999999|  1.350725|19.33118|19.01371|18.80369|       2| 19.60324|         19.394685|19.172445| 18.9087|         19.948645|19.730595|19.50983|19.254285000000003|    1|\n",
            "|  23.74654|  23.19651|  22.01303|  20.80744|   19.9166|  24.60136|  23.64122|   22.4804|  21.31004|  20.34262|         0.6455957|  1.295767|         0.9235029|   2.04388|22.01303|20.80744| 19.9166|       0|23.471525|          22.60477|21.410235|20.36202|          24.12129| 23.06081|21.89522|          20.82633|    2|\n",
            "|  20.63075|  20.25426|  20.04478|  19.79378|  19.70326|  20.99431|  20.60174|  20.40031|  20.19795|    19.958|          0.657796|  1.482055|         0.7643448|   1.48065|20.04478|19.79378|19.70326|       1|20.442505|20.149520000000003| 19.91928|19.74852|20.798025000000003|20.501025|20.29913|         20.077975|    3|\n",
            "|  21.38126|  21.13488|  21.09993|  20.92882|  20.80634|  21.85225|   21.4586|   21.4534|  21.19782|  20.63075|0.7288965000000001|  2.212801|          1.027675|  1.458456|21.09993|20.92882|20.80634|       1| 21.25807|         21.117405|21.014375|20.86758|         21.655425|   21.456|21.32561|         20.914285|    4|\n",
            "+----------+----------+----------+----------+----------+----------+----------+----------+----------+----------+------------------+----------+------------------+----------+--------+--------+--------+--------+---------+------------------+---------+--------+------------------+---------+--------+------------------+-----+\n",
            "only showing top 5 rows\n",
            "\n"
          ]
        }
      ]
    },
    {
      "cell_type": "code",
      "source": [
        "from pyspark.sql.functions import monotonically_increasing_id\n",
        "result2 = result2.withColumn(\"objid\", monotonically_increasing_id())\n",
        "result2.show(3)"
      ],
      "metadata": {
        "colab": {
          "base_uri": "https://localhost:8080/"
        },
        "id": "HOpgzpYy-rqI",
        "outputId": "4f3d7484-2ccd-4116-bfc0-a60bb7cf61df"
      },
      "execution_count": null,
      "outputs": [
        {
          "output_type": "stream",
          "name": "stdout",
          "text": [
            "+--------------------+--------+--------------------+--------------------+----------+-----+\n",
            "|            features|redshift|       rawPrediction|         probability|prediction|objid|\n",
            "+--------------------+--------+--------------------+--------------------+----------+-----+\n",
            "|[21.63269,21.2791...|       1|[1.57716458308749...|[0.17029967441546...|       1.0|    0|\n",
            "|[19.74829,19.4581...|       2|[1.94432037178717...|[0.25368640497025...|       1.0|    1|\n",
            "|[23.74654,23.1965...|       0|[5.08391356729749...|[0.94851365831968...|       0.0|    2|\n",
            "+--------------------+--------+--------------------+--------------------+----------+-----+\n",
            "only showing top 3 rows\n",
            "\n"
          ]
        }
      ]
    },
    {
      "cell_type": "code",
      "source": [
        "print(df.count(), len(df.columns))\n",
        "print(result2.count(), len(result2.columns))\n",
        "\n",
        "new_df = df.join(result2, df.objid == result2.objid).select(df[\"*\"],result2[\"prediction\"])\n",
        "#new_df = df.join(dt_predictions, df.objid == dt_predictions.objid)\n",
        "new_df.show(5)"
      ],
      "metadata": {
        "colab": {
          "base_uri": "https://localhost:8080/"
        },
        "id": "tsixYIM0-13Y",
        "outputId": "728b904e-eeb6-4eda-ce8b-9154820e96c5"
      },
      "execution_count": null,
      "outputs": [
        {
          "output_type": "stream",
          "name": "stdout",
          "text": [
            "3524477 27\n",
            "3524477 6\n",
            "+----------+----------+----------+----------+----------+----------+----------+----------+----------+----------+------------------+------------------+----------+------------------+--------+--------+--------+--------+---------+------------------+------------------+---------+---------+---------+---------+---------+-----+----------+\n",
            "|modelMag_u|modelMag_g|modelMag_r|modelMag_i|modelMag_z|fiberMag_u|fiberMag_g|fiberMag_r|fiberMag_i|fiberMag_z|        petroR50_r|        petroR90_r|petroR50_z|        petroR90_z|       r|       i|       z|redshift|     mmug|              mmgr|              mmri|     mmiz|     mfug|     mfgr|     mfri|     mfiz|objid|prediction|\n",
            "+----------+----------+----------+----------+----------+----------+----------+----------+----------+----------+------------------+------------------+----------+------------------+--------+--------+--------+--------+---------+------------------+------------------+---------+---------+---------+---------+---------+-----+----------+\n",
            "|  21.63269|  21.27911|   21.2255|   20.9569|  20.82752|  22.05036|  21.62439|  21.64663|  21.32027|  21.40336|         0.5628045|          1.068754| 0.1665651|         0.2384792| 21.2255| 20.9569|20.82752|       1|  21.4559|         21.252305|           21.0912| 20.89221|21.837375| 21.63551| 21.48345|21.361815|    0|       1.0|\n",
            "|  20.90748|  21.23738|  20.69726|  20.69563|  20.47163|  21.29452|  21.57431|  21.06274|  21.12746|  20.99664|0.5783159999999999|          1.171984| 0.3888602|0.6004076999999999|20.69726|20.69563|20.47163|       1| 21.07243|          20.96732|         20.696445| 20.58363|21.434415|21.318525|  21.0951| 21.06205|    7|       1.0|\n",
            "|  23.24831|  21.21389|  20.69018|  20.61149|  20.53478|  23.48123|  21.58843|  21.08554|  20.98268|  20.73203|         0.6263536|1.2026940000000002| 0.6094831|          1.054154|20.69018|20.61149|20.53478|       3|  22.2311|         20.952035|         20.650835|20.573135| 22.53483|21.336985| 21.03411|20.857355|   19|       1.0|\n",
            "|  21.69469|  21.35104|  21.16407|  20.74727|  20.36194|  22.00505|  21.73203|  21.55627|  21.08362|  20.73924|0.7885260999999999|          2.253798| 0.5512555|1.1799309999999998|21.16407|20.74727|20.36194|       0|21.522865|21.257555000000004|          20.95567|20.554605| 21.86854| 21.64415|21.319945| 20.91143|   22|       0.0|\n",
            "|  27.10987|  23.41813|  22.60282|   20.9293|  19.94504|   26.2078|  24.26209|  23.45116|  21.95711|  20.77162| 6.871435000000001|          7.291823|  0.558032|         0.7260472|22.60282| 20.9293|19.94504|       0|   25.264|         23.010475|21.766060000000003| 20.43717|25.234945|23.856625|22.704135|21.364365|   26|       0.0|\n",
            "+----------+----------+----------+----------+----------+----------+----------+----------+----------+----------+------------------+------------------+----------+------------------+--------+--------+--------+--------+---------+------------------+------------------+---------+---------+---------+---------+---------+-----+----------+\n",
            "only showing top 5 rows\n",
            "\n"
          ]
        }
      ]
    },
    {
      "cell_type": "code",
      "source": [
        "assembler = VectorAssembler(inputCols = ['modelMag_u', 'modelMag_g', 'modelMag_r', 'modelMag_i', 'modelMag_z', 'fiberMag_u', 'fiberMag_g', 'fiberMag_r', 'fiberMag_i', 'fiberMag_z', 'petroR50_r', 'petroR90_r', 'petroR50_z', 'petroR90_z', 'r', 'i', 'z', 'mmug', 'mmgr', 'mmri', 'mmiz', 'mfug', 'mfgr', 'mfri', 'mfiz', 'prediction'], outputCol = 'features2')"
      ],
      "metadata": {
        "id": "1vs6qffRPZrp"
      },
      "execution_count": null,
      "outputs": []
    },
    {
      "cell_type": "code",
      "source": [
        "output = assembler.transform(new_df)"
      ],
      "metadata": {
        "id": "Jcb-sRi9Agt4"
      },
      "execution_count": null,
      "outputs": []
    },
    {
      "cell_type": "code",
      "source": [
        "final_df = output.select('features2', 'redshift')\n",
        "final_df.show(3)"
      ],
      "metadata": {
        "colab": {
          "base_uri": "https://localhost:8080/"
        },
        "id": "ZciByXo_Aiky",
        "outputId": "c699121c-3e52-43fc-a51e-aac3a391563c"
      },
      "execution_count": null,
      "outputs": [
        {
          "output_type": "stream",
          "name": "stdout",
          "text": [
            "+--------------------+--------+\n",
            "|           features2|redshift|\n",
            "+--------------------+--------+\n",
            "|[21.63269,21.2791...|       1|\n",
            "|[20.90748,21.2373...|       1|\n",
            "|[23.24831,21.2138...|       3|\n",
            "+--------------------+--------+\n",
            "only showing top 3 rows\n",
            "\n"
          ]
        }
      ]
    },
    {
      "cell_type": "code",
      "source": [
        "train, test = final_df.randomSplit([0.7, 0.3])"
      ],
      "metadata": {
        "id": "u5_TsPEvAkbm"
      },
      "execution_count": null,
      "outputs": []
    },
    {
      "cell_type": "code",
      "source": [
        "layers = [26, 24, 24, 8]"
      ],
      "metadata": {
        "id": "3E4HfdP4Ygpq"
      },
      "execution_count": null,
      "outputs": []
    },
    {
      "cell_type": "code",
      "source": [
        "classifier2 = MultilayerPerceptronClassifier(labelCol='redshift', featuresCol='features2', maxIter=100, layers=layers, blockSize=128, seed=1234)"
      ],
      "metadata": {
        "id": "ulCXMPGBAmQV"
      },
      "execution_count": null,
      "outputs": []
    },
    {
      "cell_type": "code",
      "source": [
        "model2 = classifier2.fit(train)"
      ],
      "metadata": {
        "id": "wudFbYc_BHLR"
      },
      "execution_count": null,
      "outputs": []
    },
    {
      "cell_type": "code",
      "source": [
        "result2 = model2.transform(test)"
      ],
      "metadata": {
        "id": "lgVd4ScyJfV1"
      },
      "execution_count": null,
      "outputs": []
    },
    {
      "cell_type": "code",
      "source": [
        "from pyspark.ml.evaluation import MulticlassClassificationEvaluator\n",
        "\n",
        "multi_evaluator = MulticlassClassificationEvaluator(labelCol = 'redshift', metricName = 'accuracy')\n",
        "print('Decision Tree Accu:', multi_evaluator.evaluate(result2))"
      ],
      "metadata": {
        "colab": {
          "base_uri": "https://localhost:8080/"
        },
        "id": "e1JDJcspJjrG",
        "outputId": "ee416576-9471-46c5-f8bd-b855b407f13c"
      },
      "execution_count": null,
      "outputs": [
        {
          "output_type": "stream",
          "name": "stdout",
          "text": [
            "Decision Tree Accu: 0.8538496959634192\n"
          ]
        }
      ]
    },
    {
      "cell_type": "code",
      "source": [
        "print('test data (weightedPrecision): ', multi_evaluator.setMetricName('weightedPrecision').evaluate(result2))\n",
        "print('test data (weightedRecall): ', multi_evaluator.setMetricName('weightedRecall').evaluate(result2))"
      ],
      "metadata": {
        "colab": {
          "base_uri": "https://localhost:8080/"
        },
        "id": "fU4MigJJJ1Fd",
        "outputId": "b7041ede-695e-47ba-8d6c-a193e0ac3b5a"
      },
      "execution_count": null,
      "outputs": [
        {
          "output_type": "stream",
          "name": "stdout",
          "text": [
            "test data (weightedPrecision):  0.8276868780281237\n",
            "test data (weightedRecall):  0.8538496959634191\n"
          ]
        }
      ]
    }
  ]
}